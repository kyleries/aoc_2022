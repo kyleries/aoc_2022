{
 "cells": [
  {
   "cell_type": "markdown",
   "source": [
    "Advent of Code, Day 5\n",
    "\n",
    "Day 5 presents our first instance of needing to put a bit more effort into the actual data ingestion and processing as it will form the basis for our logic.\n",
    "\n",
    "Although beautifully depicting containers, we'll remove the brackets and stack numbers from our file as they serve no functional purpose. In doing so, we will end up with a structure that is reliably interpreted via a space delim. We'll also break out the second part of the input into a move instructions file."
   ],
   "metadata": {
    "collapsed": false
   }
  },
  {
   "cell_type": "code",
   "execution_count": 1,
   "metadata": {
    "collapsed": true
   },
   "outputs": [],
   "source": [
    "with open(\"data.csv\") as file:\n",
    "    lines = file.readlines()"
   ]
  },
  {
   "cell_type": "code",
   "execution_count": 2,
   "outputs": [],
   "source": [
    "with open(\"container_layout.csv\",'w') as file:\n",
    "    for line in lines:\n",
    "        line = line.replace('[', ' ')\n",
    "        line = line.replace(']', ' ')\n",
    "        file.write(line)\n",
    "        if not line.strip():\n",
    "            break"
   ],
   "metadata": {
    "collapsed": false
   }
  },
  {
   "cell_type": "code",
   "execution_count": 3,
   "outputs": [],
   "source": [
    "with open(\"move_instructions.csv\",'w') as file:\n",
    "    for line in lines:\n",
    "         if line.startswith('move'):\n",
    "             file.write(line)"
   ],
   "metadata": {
    "collapsed": false
   }
  },
  {
   "cell_type": "markdown",
   "source": [
    "With two separate files for each section of the input file, we can now work on ingesting each in the way we need. We'll start with the container layout. Using Pandas `read_fwf` (read fixed width file) makes this a breeze. We'll drop the last row since we effectively have the stack designation in the dataframe index."
   ],
   "metadata": {
    "collapsed": false
   }
  },
  {
   "cell_type": "code",
   "execution_count": 4,
   "outputs": [
    {
     "data": {
      "text/plain": "     0  1  2    3    4    5    6  7    8\n0  NaN  G  R  NaN  NaN  NaN  NaN  P  NaN\n1  NaN  H  W  NaN    T    P  NaN  H  NaN\n2  NaN  F  T    P    B    D  NaN  N  NaN\n3    L  T  M    Q    L    C  NaN  Z  NaN\n4    C  C  N    V    S    H  NaN  V    G\n5    G  L  F    D    M    V    T  J    H\n6    M  D  J    F    F    N    C  S    F\n7    Q  R  V    J    N    R    H  G    Z",
      "text/html": "<div>\n<style scoped>\n    .dataframe tbody tr th:only-of-type {\n        vertical-align: middle;\n    }\n\n    .dataframe tbody tr th {\n        vertical-align: top;\n    }\n\n    .dataframe thead th {\n        text-align: right;\n    }\n</style>\n<table border=\"1\" class=\"dataframe\">\n  <thead>\n    <tr style=\"text-align: right;\">\n      <th></th>\n      <th>0</th>\n      <th>1</th>\n      <th>2</th>\n      <th>3</th>\n      <th>4</th>\n      <th>5</th>\n      <th>6</th>\n      <th>7</th>\n      <th>8</th>\n    </tr>\n  </thead>\n  <tbody>\n    <tr>\n      <th>0</th>\n      <td>NaN</td>\n      <td>G</td>\n      <td>R</td>\n      <td>NaN</td>\n      <td>NaN</td>\n      <td>NaN</td>\n      <td>NaN</td>\n      <td>P</td>\n      <td>NaN</td>\n    </tr>\n    <tr>\n      <th>1</th>\n      <td>NaN</td>\n      <td>H</td>\n      <td>W</td>\n      <td>NaN</td>\n      <td>T</td>\n      <td>P</td>\n      <td>NaN</td>\n      <td>H</td>\n      <td>NaN</td>\n    </tr>\n    <tr>\n      <th>2</th>\n      <td>NaN</td>\n      <td>F</td>\n      <td>T</td>\n      <td>P</td>\n      <td>B</td>\n      <td>D</td>\n      <td>NaN</td>\n      <td>N</td>\n      <td>NaN</td>\n    </tr>\n    <tr>\n      <th>3</th>\n      <td>L</td>\n      <td>T</td>\n      <td>M</td>\n      <td>Q</td>\n      <td>L</td>\n      <td>C</td>\n      <td>NaN</td>\n      <td>Z</td>\n      <td>NaN</td>\n    </tr>\n    <tr>\n      <th>4</th>\n      <td>C</td>\n      <td>C</td>\n      <td>N</td>\n      <td>V</td>\n      <td>S</td>\n      <td>H</td>\n      <td>NaN</td>\n      <td>V</td>\n      <td>G</td>\n    </tr>\n    <tr>\n      <th>5</th>\n      <td>G</td>\n      <td>L</td>\n      <td>F</td>\n      <td>D</td>\n      <td>M</td>\n      <td>V</td>\n      <td>T</td>\n      <td>J</td>\n      <td>H</td>\n    </tr>\n    <tr>\n      <th>6</th>\n      <td>M</td>\n      <td>D</td>\n      <td>J</td>\n      <td>F</td>\n      <td>F</td>\n      <td>N</td>\n      <td>C</td>\n      <td>S</td>\n      <td>F</td>\n    </tr>\n    <tr>\n      <th>7</th>\n      <td>Q</td>\n      <td>R</td>\n      <td>V</td>\n      <td>J</td>\n      <td>N</td>\n      <td>R</td>\n      <td>H</td>\n      <td>G</td>\n      <td>Z</td>\n    </tr>\n  </tbody>\n</table>\n</div>"
     },
     "execution_count": 4,
     "metadata": {},
     "output_type": "execute_result"
    }
   ],
   "source": [
    "import pandas as pd\n",
    "\n",
    "df = pd.read_fwf('container_layout.csv', header=None)\n",
    "\n",
    "# drop the last row\n",
    "df = df[:-1]\n",
    "df"
   ],
   "metadata": {
    "collapsed": false
   }
  },
  {
   "cell_type": "markdown",
   "source": [
    "In order to work with these stacks, let's transpose the dataframe so that we can work with the data in the rows as lists (we'll see why that will be helpful shortly)."
   ],
   "metadata": {
    "collapsed": false
   }
  },
  {
   "cell_type": "code",
   "execution_count": 5,
   "outputs": [
    {
     "data": {
      "text/plain": "     0    1    2    3    4  5  6  7\n0  NaN  NaN  NaN    L    C  G  M  Q\n1    G    H    F    T    C  L  D  R\n2    R    W    T    M    N  F  J  V\n3  NaN  NaN    P    Q    V  D  F  J\n4  NaN    T    B    L    S  M  F  N\n5  NaN    P    D    C    H  V  N  R\n6  NaN  NaN  NaN  NaN  NaN  T  C  H\n7    P    H    N    Z    V  J  S  G\n8  NaN  NaN  NaN  NaN    G  H  F  Z",
      "text/html": "<div>\n<style scoped>\n    .dataframe tbody tr th:only-of-type {\n        vertical-align: middle;\n    }\n\n    .dataframe tbody tr th {\n        vertical-align: top;\n    }\n\n    .dataframe thead th {\n        text-align: right;\n    }\n</style>\n<table border=\"1\" class=\"dataframe\">\n  <thead>\n    <tr style=\"text-align: right;\">\n      <th></th>\n      <th>0</th>\n      <th>1</th>\n      <th>2</th>\n      <th>3</th>\n      <th>4</th>\n      <th>5</th>\n      <th>6</th>\n      <th>7</th>\n    </tr>\n  </thead>\n  <tbody>\n    <tr>\n      <th>0</th>\n      <td>NaN</td>\n      <td>NaN</td>\n      <td>NaN</td>\n      <td>L</td>\n      <td>C</td>\n      <td>G</td>\n      <td>M</td>\n      <td>Q</td>\n    </tr>\n    <tr>\n      <th>1</th>\n      <td>G</td>\n      <td>H</td>\n      <td>F</td>\n      <td>T</td>\n      <td>C</td>\n      <td>L</td>\n      <td>D</td>\n      <td>R</td>\n    </tr>\n    <tr>\n      <th>2</th>\n      <td>R</td>\n      <td>W</td>\n      <td>T</td>\n      <td>M</td>\n      <td>N</td>\n      <td>F</td>\n      <td>J</td>\n      <td>V</td>\n    </tr>\n    <tr>\n      <th>3</th>\n      <td>NaN</td>\n      <td>NaN</td>\n      <td>P</td>\n      <td>Q</td>\n      <td>V</td>\n      <td>D</td>\n      <td>F</td>\n      <td>J</td>\n    </tr>\n    <tr>\n      <th>4</th>\n      <td>NaN</td>\n      <td>T</td>\n      <td>B</td>\n      <td>L</td>\n      <td>S</td>\n      <td>M</td>\n      <td>F</td>\n      <td>N</td>\n    </tr>\n    <tr>\n      <th>5</th>\n      <td>NaN</td>\n      <td>P</td>\n      <td>D</td>\n      <td>C</td>\n      <td>H</td>\n      <td>V</td>\n      <td>N</td>\n      <td>R</td>\n    </tr>\n    <tr>\n      <th>6</th>\n      <td>NaN</td>\n      <td>NaN</td>\n      <td>NaN</td>\n      <td>NaN</td>\n      <td>NaN</td>\n      <td>T</td>\n      <td>C</td>\n      <td>H</td>\n    </tr>\n    <tr>\n      <th>7</th>\n      <td>P</td>\n      <td>H</td>\n      <td>N</td>\n      <td>Z</td>\n      <td>V</td>\n      <td>J</td>\n      <td>S</td>\n      <td>G</td>\n    </tr>\n    <tr>\n      <th>8</th>\n      <td>NaN</td>\n      <td>NaN</td>\n      <td>NaN</td>\n      <td>NaN</td>\n      <td>G</td>\n      <td>H</td>\n      <td>F</td>\n      <td>Z</td>\n    </tr>\n  </tbody>\n</table>\n</div>"
     },
     "execution_count": 5,
     "metadata": {},
     "output_type": "execute_result"
    }
   ],
   "source": [
    "df = df.transpose()\n",
    "df"
   ],
   "metadata": {
    "collapsed": false
   }
  },
  {
   "cell_type": "markdown",
   "source": [
    "Now let's go ahead and reverse the order of the columns to match our original stack orientation."
   ],
   "metadata": {
    "collapsed": false
   }
  },
  {
   "cell_type": "code",
   "execution_count": 6,
   "outputs": [
    {
     "data": {
      "text/plain": "   7  6  5    4    3    2    1    0\n0  Q  M  G    C    L  NaN  NaN  NaN\n1  R  D  L    C    T    F    H    G\n2  V  J  F    N    M    T    W    R\n3  J  F  D    V    Q    P  NaN  NaN\n4  N  F  M    S    L    B    T  NaN\n5  R  N  V    H    C    D    P  NaN\n6  H  C  T  NaN  NaN  NaN  NaN  NaN\n7  G  S  J    V    Z    N    H    P\n8  Z  F  H    G  NaN  NaN  NaN  NaN",
      "text/html": "<div>\n<style scoped>\n    .dataframe tbody tr th:only-of-type {\n        vertical-align: middle;\n    }\n\n    .dataframe tbody tr th {\n        vertical-align: top;\n    }\n\n    .dataframe thead th {\n        text-align: right;\n    }\n</style>\n<table border=\"1\" class=\"dataframe\">\n  <thead>\n    <tr style=\"text-align: right;\">\n      <th></th>\n      <th>7</th>\n      <th>6</th>\n      <th>5</th>\n      <th>4</th>\n      <th>3</th>\n      <th>2</th>\n      <th>1</th>\n      <th>0</th>\n    </tr>\n  </thead>\n  <tbody>\n    <tr>\n      <th>0</th>\n      <td>Q</td>\n      <td>M</td>\n      <td>G</td>\n      <td>C</td>\n      <td>L</td>\n      <td>NaN</td>\n      <td>NaN</td>\n      <td>NaN</td>\n    </tr>\n    <tr>\n      <th>1</th>\n      <td>R</td>\n      <td>D</td>\n      <td>L</td>\n      <td>C</td>\n      <td>T</td>\n      <td>F</td>\n      <td>H</td>\n      <td>G</td>\n    </tr>\n    <tr>\n      <th>2</th>\n      <td>V</td>\n      <td>J</td>\n      <td>F</td>\n      <td>N</td>\n      <td>M</td>\n      <td>T</td>\n      <td>W</td>\n      <td>R</td>\n    </tr>\n    <tr>\n      <th>3</th>\n      <td>J</td>\n      <td>F</td>\n      <td>D</td>\n      <td>V</td>\n      <td>Q</td>\n      <td>P</td>\n      <td>NaN</td>\n      <td>NaN</td>\n    </tr>\n    <tr>\n      <th>4</th>\n      <td>N</td>\n      <td>F</td>\n      <td>M</td>\n      <td>S</td>\n      <td>L</td>\n      <td>B</td>\n      <td>T</td>\n      <td>NaN</td>\n    </tr>\n    <tr>\n      <th>5</th>\n      <td>R</td>\n      <td>N</td>\n      <td>V</td>\n      <td>H</td>\n      <td>C</td>\n      <td>D</td>\n      <td>P</td>\n      <td>NaN</td>\n    </tr>\n    <tr>\n      <th>6</th>\n      <td>H</td>\n      <td>C</td>\n      <td>T</td>\n      <td>NaN</td>\n      <td>NaN</td>\n      <td>NaN</td>\n      <td>NaN</td>\n      <td>NaN</td>\n    </tr>\n    <tr>\n      <th>7</th>\n      <td>G</td>\n      <td>S</td>\n      <td>J</td>\n      <td>V</td>\n      <td>Z</td>\n      <td>N</td>\n      <td>H</td>\n      <td>P</td>\n    </tr>\n    <tr>\n      <th>8</th>\n      <td>Z</td>\n      <td>F</td>\n      <td>H</td>\n      <td>G</td>\n      <td>NaN</td>\n      <td>NaN</td>\n      <td>NaN</td>\n      <td>NaN</td>\n    </tr>\n  </tbody>\n</table>\n</div>"
     },
     "execution_count": 6,
     "metadata": {},
     "output_type": "execute_result"
    }
   ],
   "source": [
    "df = df.iloc[:, ::-1]\n",
    "df"
   ],
   "metadata": {
    "collapsed": false
   }
  },
  {
   "cell_type": "markdown",
   "source": [
    "Now we'll convert our dataframe to a primitive dictionary with the stacks represented as lists."
   ],
   "metadata": {
    "collapsed": false
   }
  },
  {
   "cell_type": "code",
   "execution_count": 7,
   "outputs": [
    {
     "data": {
      "text/plain": "{1: ['Q', 'M', 'G', 'C', 'L', nan, nan, nan],\n 2: ['R', 'D', 'L', 'C', 'T', 'F', 'H', 'G'],\n 3: ['V', 'J', 'F', 'N', 'M', 'T', 'W', 'R'],\n 4: ['J', 'F', 'D', 'V', 'Q', 'P', nan, nan],\n 5: ['N', 'F', 'M', 'S', 'L', 'B', 'T', nan],\n 6: ['R', 'N', 'V', 'H', 'C', 'D', 'P', nan],\n 7: ['H', 'C', 'T', nan, nan, nan, nan, nan],\n 8: ['G', 'S', 'J', 'V', 'Z', 'N', 'H', 'P'],\n 9: ['Z', 'F', 'H', 'G', nan, nan, nan, nan]}"
     },
     "execution_count": 7,
     "metadata": {},
     "output_type": "execute_result"
    }
   ],
   "source": [
    "df.index += 1\n",
    "d = df.T.to_dict('list')\n",
    "d"
   ],
   "metadata": {
    "collapsed": false
   }
  },
  {
   "cell_type": "markdown",
   "source": [
    "Working with primitive data structures allows us to stay closer to the metal for performance reasons and narrows down the scope of function we'll need to more familiar, less library dependent functions. We'll cruise through our dictionary and remove the `nan` entries to complete the cleanup of our data."
   ],
   "metadata": {
    "collapsed": false
   }
  },
  {
   "cell_type": "code",
   "execution_count": 8,
   "outputs": [
    {
     "data": {
      "text/plain": "{1: ['Q', 'M', 'G', 'C', 'L'],\n 2: ['R', 'D', 'L', 'C', 'T', 'F', 'H', 'G'],\n 3: ['V', 'J', 'F', 'N', 'M', 'T', 'W', 'R'],\n 4: ['J', 'F', 'D', 'V', 'Q', 'P'],\n 5: ['N', 'F', 'M', 'S', 'L', 'B', 'T'],\n 6: ['R', 'N', 'V', 'H', 'C', 'D', 'P'],\n 7: ['H', 'C', 'T'],\n 8: ['G', 'S', 'J', 'V', 'Z', 'N', 'H', 'P'],\n 9: ['Z', 'F', 'H', 'G']}"
     },
     "execution_count": 8,
     "metadata": {},
     "output_type": "execute_result"
    }
   ],
   "source": [
    "for k, v in d.items():\n",
    "    d[k] = [val for val in v if str(val) != 'nan']\n",
    "d"
   ],
   "metadata": {
    "collapsed": false
   }
  },
  {
   "cell_type": "markdown",
   "source": [
    "With our container layout data prepared to our liking, let's read in our move instructions."
   ],
   "metadata": {
    "collapsed": false
   }
  },
  {
   "cell_type": "code",
   "execution_count": 9,
   "outputs": [
    {
     "data": {
      "text/plain": "   move  source  target\n0     5       8       2\n1     2       4       5\n2     3       3       9\n3     4       1       8\n4     5       9       1",
      "text/html": "<div>\n<style scoped>\n    .dataframe tbody tr th:only-of-type {\n        vertical-align: middle;\n    }\n\n    .dataframe tbody tr th {\n        vertical-align: top;\n    }\n\n    .dataframe thead th {\n        text-align: right;\n    }\n</style>\n<table border=\"1\" class=\"dataframe\">\n  <thead>\n    <tr style=\"text-align: right;\">\n      <th></th>\n      <th>move</th>\n      <th>source</th>\n      <th>target</th>\n    </tr>\n  </thead>\n  <tbody>\n    <tr>\n      <th>0</th>\n      <td>5</td>\n      <td>8</td>\n      <td>2</td>\n    </tr>\n    <tr>\n      <th>1</th>\n      <td>2</td>\n      <td>4</td>\n      <td>5</td>\n    </tr>\n    <tr>\n      <th>2</th>\n      <td>3</td>\n      <td>3</td>\n      <td>9</td>\n    </tr>\n    <tr>\n      <th>3</th>\n      <td>4</td>\n      <td>1</td>\n      <td>8</td>\n    </tr>\n    <tr>\n      <th>4</th>\n      <td>5</td>\n      <td>9</td>\n      <td>1</td>\n    </tr>\n  </tbody>\n</table>\n</div>"
     },
     "execution_count": 9,
     "metadata": {},
     "output_type": "execute_result"
    }
   ],
   "source": [
    "moves = pd.read_csv(\"move_instructions.csv\", header=None, sep=' ', usecols=[1, 3, 5], names=['move', 'source', 'target'])\n",
    "moves.head()"
   ],
   "metadata": {
    "collapsed": false
   }
  },
  {
   "cell_type": "markdown",
   "source": [
    "Having spent the bulf of our time in data prep, applying the move instructions is a simple matter of applying each move to each stack!"
   ],
   "metadata": {
    "collapsed": false
   }
  },
  {
   "cell_type": "code",
   "execution_count": 10,
   "outputs": [
    {
     "data": {
      "text/plain": "{1: ['D', 'N', 'H', 'M', 'T', 'Z', 'W', 'R', 'V'],\n 2: ['C'],\n 3: ['T'],\n 4: ['D', 'F'],\n 5: ['T'],\n 6: ['N', 'P', 'J'],\n 7: ['J', 'G', 'N', 'R', 'H', 'G', 'Q'],\n 8: ['D',\n  'L',\n  'F',\n  'N',\n  'V',\n  'H',\n  'S',\n  'Q',\n  'M',\n  'P',\n  'H',\n  'H',\n  'F',\n  'V',\n  'C',\n  'L',\n  'F',\n  'J',\n  'C',\n  'M',\n  'R',\n  'T',\n  'Z',\n  'L',\n  'V',\n  'G',\n  'C'],\n 9: ['F', 'P', 'S', 'B', 'G']}"
     },
     "execution_count": 10,
     "metadata": {},
     "output_type": "execute_result"
    }
   ],
   "source": [
    "for idx, row in moves.iterrows():\n",
    "    for m in range(row.move):\n",
    "        if d[row.source]:\n",
    "            d[row.target].append(d[row.source].pop())\n",
    "\n",
    "d"
   ],
   "metadata": {
    "collapsed": false
   }
  }
 ],
 "metadata": {
  "kernelspec": {
   "display_name": "Python 3",
   "language": "python",
   "name": "python3"
  },
  "language_info": {
   "codemirror_mode": {
    "name": "ipython",
    "version": 2
   },
   "file_extension": ".py",
   "mimetype": "text/x-python",
   "name": "python",
   "nbconvert_exporter": "python",
   "pygments_lexer": "ipython2",
   "version": "2.7.6"
  }
 },
 "nbformat": 4,
 "nbformat_minor": 0
}
