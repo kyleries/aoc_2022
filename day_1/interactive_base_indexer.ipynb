{
 "cells": [
  {
   "cell_type": "markdown",
   "metadata": {},
   "source": [
    "Advent of Code 2022, Day 1"
   ]
  },
  {
   "cell_type": "markdown",
   "metadata": {},
   "source": [
    "To begin, let's read in our data and cleanse the lines of any whitespace. This will retain the blank lines in the file as empty."
   ]
  },
  {
   "cell_type": "code",
   "execution_count": null,
   "metadata": {
    "collapsed": true,
    "pycharm": {
     "is_executing": true
    }
   },
   "outputs": [],
   "source": [
    "with open(\"data.csv\") as f:\n",
    "    lines = f.readlines()\n",
    "\n",
    "calorie_entries = [l.strip() for l in lines]"
   ]
  },
  {
   "cell_type": "markdown",
   "metadata": {},
   "source": [
    "In order to summarize our calories, let's collect the entries into a dictionary of lists, e.g.\n",
    "\n",
    "```python\n",
    "{\"elf_id\": [snack_1, snack_2]}\n",
    "```"
   ]
  },
  {
   "cell_type": "code",
   "execution_count": null,
   "metadata": {},
   "outputs": [],
   "source": [
    "d = {}\n",
    "elf_id = 0\n",
    "\n",
    "for entry in calorie_entries:\n",
    "    if entry:\n",
    "        if elf_id in d:\n",
    "            d[elf_id].append(int(entry))\n",
    "        else:\n",
    "            d[elf_id] = [int(entry)]\n",
    "    else:\n",
    "        elf_id += 1"
   ]
  },
  {
   "cell_type": "markdown",
   "metadata": {},
   "source": [
    "With our data structure prepared, we can solve for the Elf with the most calories in their snacks with simple dictionary comprehension and the mav value:"
   ]
  },
  {
   "cell_type": "code",
   "execution_count": null,
   "metadata": {},
   "outputs": [],
   "source": [
    "d = {k:sum(v) for (k,v) in d.items()}\n",
    "max(d.values())"
   ]
  },
  {
   "cell_type": "markdown",
   "metadata": {},
   "source": [
    "Part 2: In order to get the total of the top three elves, let's sort our dictionary and sum the top three amounts."
   ]
  },
  {
   "cell_type": "code",
   "execution_count": null,
   "metadata": {},
   "outputs": [],
   "source": [
    "sum(sorted(d.values(), reverse=True)[:3])"
   ]
  },
  {
   "cell_type": "markdown",
   "metadata": {},
   "source": []
  }
 ],
 "metadata": {
  "kernelspec": {
   "display_name": "Python 3 (ipykernel)",
   "language": "python",
   "name": "python3"
  },
  "language_info": {
   "codemirror_mode": {
    "name": "ipython",
    "version": 3
   },
   "file_extension": ".py",
   "mimetype": "text/x-python",
   "name": "python",
   "nbconvert_exporter": "python",
   "pygments_lexer": "ipython3",
   "version": "3.9.6"
  }
 },
 "nbformat": 4,
 "nbformat_minor": 1
}
