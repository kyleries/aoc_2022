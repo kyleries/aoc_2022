{
 "cells": [
  {
   "cell_type": "markdown",
   "source": [
    "Advent of Code, Day 4"
   ],
   "metadata": {
    "collapsed": false
   }
  },
  {
   "cell_type": "code",
   "execution_count": 0,
   "metadata": {
    "collapsed": true
   },
   "outputs": [],
   "source": [
    "import csv\n",
    "from dataclasses import dataclass\n",
    "\n",
    "pairs = []\n",
    "part_1_result = []\n",
    "\n",
    "with open('data.csv') as f:\n",
    "    reader = csv.reader(f)\n",
    "    for row in reader:\n",
    "        pairs.append(row)"
   ]
  },
  {
   "cell_type": "markdown",
   "source": [
    "With the assignment data for our pairs loaded up, let's model an Elf such that we can store the assignment data for each instance of an elf. We'll also define a couple functions to help us make determinations about the overlap of the assignments for each pair. Again here, we'll use Set operations to make this quick and painless."
   ],
   "metadata": {
    "collapsed": false
   }
  },
  {
   "cell_type": "code",
   "execution_count": 0,
   "outputs": [],
   "source": [
    "@dataclass\n",
    "class Elf:\n",
    "    assignment_start: int\n",
    "    assignment_end: int\n",
    "\n",
    "    def complete_overlap_with_partner_elf(self, other_elf) -> bool:\n",
    "        return self.assignment_range().issubset(other_elf.assignment_range()) or \\\n",
    "            self.assignment_range().issuperset(other_elf.assignment_range())\n",
    "\n",
    "    # Part Two\n",
    "    def partial_overlap_with_partner_elf(self, other_elf) -> bool:\n",
    "        return bool(self.assignment_range().intersection(other_elf.assignment_range()))\n",
    "\n",
    "    def assignment_range(self):\n",
    "        return set(range(self.assignment_start, self.assignment_end+1))"
   ],
   "metadata": {
    "collapsed": false
   }
  },
  {
   "cell_type": "markdown",
   "source": [
    "With our class defined, we can process our input data. we'll use an admittedly verbose number of functions here to split the assignment for each elf in the pair, then convert the corresponding str output to ints, and finally to convert each assigment to a list so that we can create our Elves and use the functions we just defined above. We'll derive our result by summing the list of boolean results for each pair."
   ],
   "metadata": {
    "collapsed": false
   }
  },
  {
   "cell_type": "code",
   "execution_count": 83,
   "outputs": [
    {
     "data": {
      "text/plain": "509"
     },
     "execution_count": 83,
     "metadata": {},
     "output_type": "execute_result"
    }
   ],
   "source": [
    "for pair in pairs:\n",
    "    assignment1, assignment2 = [list(map(int, assignment.split('-'))) for assignment in pair]\n",
    "\n",
    "    elf1 = Elf(assignment1[0], assignment1[1])\n",
    "    elf2 = Elf(assignment2[0], assignment2[1])\n",
    "\n",
    "    part_1_result.append(elf1.complete_overlap_with_partner_elf(elf2))\n",
    "\n",
    "sum(part_1_result)"
   ],
   "metadata": {
    "collapsed": false
   }
  },
  {
   "cell_type": "markdown",
   "source": [
    "Part 2\n",
    "\n",
    "We could have extracted a function here to prevent duplicating this code, but for now I've just copied it down and changed our method call to look for just a partial overlap. It works perfectly with the Elf we modeled above and makes for a quick additional run with this variant."
   ],
   "metadata": {
    "collapsed": false
   }
  },
  {
   "cell_type": "code",
   "execution_count": 84,
   "outputs": [
    {
     "data": {
      "text/plain": "870"
     },
     "execution_count": 84,
     "metadata": {},
     "output_type": "execute_result"
    }
   ],
   "source": [
    "part_2_result = []\n",
    "\n",
    "for pair in pairs:\n",
    "    assignment1, assignment2 = [list(map(int, assignment.split('-'))) for assignment in pair]\n",
    "\n",
    "    elf1 = Elf(assignment1[0], assignment1[1])\n",
    "    elf2 = Elf(assignment2[0], assignment2[1])\n",
    "\n",
    "    part_2_result.append(elf1.partial_overlap_with_partner_elf(elf2))\n",
    "\n",
    "sum(part_2_result)"
   ],
   "metadata": {
    "collapsed": false
   }
  }
 ],
 "metadata": {
  "kernelspec": {
   "display_name": "Python 3",
   "language": "python",
   "name": "python3"
  },
  "language_info": {
   "codemirror_mode": {
    "name": "ipython",
    "version": 2
   },
   "file_extension": ".py",
   "mimetype": "text/x-python",
   "name": "python",
   "nbconvert_exporter": "python",
   "pygments_lexer": "ipython2",
   "version": "2.7.6"
  }
 },
 "nbformat": 4,
 "nbformat_minor": 0
}
