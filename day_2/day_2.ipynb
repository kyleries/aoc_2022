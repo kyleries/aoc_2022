{
 "cells": [
  {
   "cell_type": "markdown",
   "source": [
    "Advent of Code 2022, Day 2\n"
   ],
   "metadata": {
    "collapsed": false
   }
  },
  {
   "cell_type": "markdown",
   "source": [
    "To begin, let's codify the game rules via \"defeats\" and \"beats\" along with the scoring for the selection given."
   ],
   "metadata": {
    "collapsed": false
   }
  },
  {
   "cell_type": "code",
   "execution_count": 111,
   "outputs": [],
   "source": [
    "DEFEATS = {\n",
    "    'X': 'C',\n",
    "    'Y': 'A',\n",
    "    'Z': 'B'\n",
    "}\n",
    "\n",
    "BEATS = {\n",
    "    'A': 'Z',\n",
    "    'B': 'X',\n",
    "    'C': 'Y'\n",
    "}\n",
    "\n",
    "PLAY_SCORES = {\n",
    "    'X': 1,\n",
    "    'Y': 2,\n",
    "    'Z': 3\n",
    "}\n",
    "\n",
    "OUTCOME_SCORES = {\n",
    "    'W': 6,\n",
    "    'D': 3,\n",
    "    'L': 0\n",
    "}"
   ],
   "metadata": {
    "collapsed": false
   }
  },
  {
   "cell_type": "markdown",
   "source": [
    "Now, let's determine how we want to model the game mechanics. A `Round` has known attributes such as the opponent selection and my selection, so a `Dataclass` seems like a good fit. Using those two attributes for each round, we can then code up a few simple methods that will use our game rules to compute the scores."
   ],
   "metadata": {
    "collapsed": false
   }
  },
  {
   "cell_type": "code",
   "execution_count": 112,
   "metadata": {
    "collapsed": true
   },
   "outputs": [],
   "source": [
    "from dataclasses import dataclass\n",
    "\n",
    "@dataclass\n",
    "class Round:\n",
    "    opponent_play: str\n",
    "    my_play: str\n",
    "\n",
    "    def outcome_score(self):\n",
    "        if DEFEATS[self.my_play] == self.opponent_play:\n",
    "            return OUTCOME_SCORES['W']\n",
    "        elif BEATS[self.opponent_play] == self.my_play:\n",
    "            return OUTCOME_SCORES['L']\n",
    "        else:\n",
    "            return OUTCOME_SCORES['D']\n",
    "\n",
    "\n",
    "    def my_play_score(self):\n",
    "        return PLAY_SCORES[self.my_play]\n",
    "\n",
    "\n",
    "    def total_score(self):\n",
    "        return self.my_play_score() + self.outcome_score()"
   ]
  },
  {
   "cell_type": "markdown",
   "source": [
    "With our object model in place, we can proceed to read the data, construct our `Rounds`, and tally the final score."
   ],
   "metadata": {
    "collapsed": false
   }
  },
  {
   "cell_type": "code",
   "execution_count": 113,
   "outputs": [
    {
     "data": {
      "text/plain": "12156"
     },
     "execution_count": 113,
     "metadata": {},
     "output_type": "execute_result"
    }
   ],
   "source": [
    "import csv\n",
    "\n",
    "rounds = []\n",
    "\n",
    "def read_strategy_guide():\n",
    "    with open('data.csv') as f:\n",
    "        reader = csv.reader(f, delimiter=' ')\n",
    "        for row in reader:\n",
    "            rounds.append(Round(row[0], row[1]))\n",
    "\n",
    "\n",
    "def tally_the_score():\n",
    "    scores = [r.total_score() for r in rounds]\n",
    "    return sum(scores)\n",
    "\n",
    "read_strategy_guide()\n",
    "tally_the_score()"
   ],
   "metadata": {
    "collapsed": false
   }
  },
  {
   "cell_type": "markdown",
   "source": [
    "Part Two"
   ],
   "metadata": {
    "collapsed": false
   }
  },
  {
   "cell_type": "markdown",
   "source": [
    "Now that we know the \"strategy guide\" is telling us what our outcome needs to be, rather than what we need to play, let's codify the desired plays based on the outcome we're instructed to go for"
   ],
   "metadata": {
    "collapsed": false
   }
  },
  {
   "cell_type": "code",
   "execution_count": 114,
   "outputs": [],
   "source": [
    "DESIRED_PLAY = {\n",
    "    'Z': {\n",
    "        'A': 'Y',\n",
    "        'B': 'Z',\n",
    "        'C': 'X'\n",
    "    },\n",
    "    'Y': {\n",
    "        'A': 'X',\n",
    "        'B': 'Y',\n",
    "        'C': 'Z'\n",
    "    },\n",
    "    'X': {\n",
    "        'A': 'Z',\n",
    "        'B': 'X',\n",
    "        'C': 'Y'\n",
    "    }\n",
    "}\n",
    "\n",
    "OUTCOME_CODE = {\n",
    "    'X': 'L',\n",
    "    'Y': 'D',\n",
    "    'Z': 'W'\n",
    "}"
   ],
   "metadata": {
    "collapsed": false
   }
  },
  {
   "cell_type": "markdown",
   "source": [
    "We can modify our existing `Round` model to accommodate this new strategy by looking up the desired outcome we want and the corresponding play we should select. The resulting scores are similar to part 1."
   ],
   "metadata": {
    "collapsed": false
   }
  },
  {
   "cell_type": "code",
   "execution_count": 115,
   "outputs": [],
   "source": [
    "@dataclass\n",
    "class Round:\n",
    "    opponent_play: str\n",
    "    desired_outcome: str\n",
    "\n",
    "    def choose_my_play(self):\n",
    "        return DESIRED_PLAY[self.desired_outcome][self.opponent_play]\n",
    "\n",
    "\n",
    "    def outcome_score(self):\n",
    "        return OUTCOME_SCORES[OUTCOME_CODE[self.desired_outcome]]\n",
    "\n",
    "\n",
    "    def my_play_score(self):\n",
    "        return PLAY_SCORES[self.choose_my_play()]\n",
    "\n",
    "\n",
    "    def total_score(self):\n",
    "        return self.my_play_score() + self.outcome_score()"
   ],
   "metadata": {
    "collapsed": false
   }
  },
  {
   "cell_type": "code",
   "execution_count": 116,
   "outputs": [
    {
     "data": {
      "text/plain": "10835"
     },
     "execution_count": 116,
     "metadata": {},
     "output_type": "execute_result"
    }
   ],
   "source": [
    "rounds = []\n",
    "\n",
    "read_strategy_guide()\n",
    "tally_the_score()"
   ],
   "metadata": {
    "collapsed": false
   }
  }
 ],
 "metadata": {
  "kernelspec": {
   "display_name": "Python 3",
   "language": "python",
   "name": "python3"
  },
  "language_info": {
   "codemirror_mode": {
    "name": "ipython",
    "version": 2
   },
   "file_extension": ".py",
   "mimetype": "text/x-python",
   "name": "python",
   "nbconvert_exporter": "python",
   "pygments_lexer": "ipython2",
   "version": "2.7.6"
  }
 },
 "nbformat": 4,
 "nbformat_minor": 0
}
