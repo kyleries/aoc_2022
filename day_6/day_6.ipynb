{
 "cells": [
  {
   "cell_type": "markdown",
   "source": [
    "Advent of Code, Day 6\n",
    "\n",
    "Our first signal processing challenge of the year!"
   ],
   "metadata": {
    "collapsed": false
   }
  },
  {
   "cell_type": "code",
   "execution_count": 0,
   "metadata": {
    "collapsed": true
   },
   "outputs": [],
   "source": [
    "with open(\"data.csv\") as file:\n",
    "    lines = file.readlines()\n",
    "\n",
    "line = lines[0]"
   ]
  },
  {
   "cell_type": "markdown",
   "source": [
    "We're going to use a pretty  much spot on recipe from itertools for this one, though we'll make a small modification to the recipe to ensure that it returns a set for us. The main idea here is that we'll want to window over the input string in order to evaluate each section while we look for the marker e.g. `sliding_window('ABCDEFG', 4) --> ABCD BCDE CDEF DEFG`"
   ],
   "metadata": {
    "collapsed": false
   }
  },
  {
   "cell_type": "code",
   "execution_count": 0,
   "outputs": [],
   "source": [
    "import collections\n",
    "from itertools import islice\n",
    "\n",
    "def sliding_window(iterable, n):\n",
    "    # sliding_window('ABCDEFG', 4) --> ABCD BCDE CDEF DEFG\n",
    "    it = iter(iterable)\n",
    "    window = collections.deque(islice(it, n), maxlen=n)\n",
    "    if len(window) == n:\n",
    "        yield set(window)\n",
    "    for x in it:\n",
    "        window.append(x)\n",
    "        yield set(window)"
   ],
   "metadata": {
    "collapsed": false
   }
  },
  {
   "cell_type": "markdown",
   "source": [
    "With our function available to us, let's put it to use and build our inventory of possible markers given the definition of the marker (a unique 4 character string)."
   ],
   "metadata": {
    "collapsed": false
   }
  },
  {
   "cell_type": "code",
   "execution_count": 0,
   "outputs": [],
   "source": [
    "marker_data = {}\n",
    "marker_locator = 4\n",
    "\n",
    "for w in sliding_window(line, 4):\n",
    "    marker_data[marker_locator] = w\n",
    "    marker_locator += 1"
   ],
   "metadata": {
    "collapsed": false
   }
  },
  {
   "cell_type": "markdown",
   "source": [
    "With all of the sections evaluated, we can look for the first instance of a marker by checking for the length of the set, since again, sets will automatically compress any sections that do not fit the definition of a marker."
   ],
   "metadata": {
    "collapsed": false
   }
  },
  {
   "cell_type": "code",
   "execution_count": 0,
   "outputs": [],
   "source": [
    "{k:v for (k,v) in marker_data.items() if len(v) > 3}"
   ],
   "metadata": {
    "collapsed": false
   }
  },
  {
   "cell_type": "markdown",
   "source": [
    "Part Two\n",
    "\n",
    "This is a fairly straightforward extension - in this case, we're just looking for a marker of a different length. All of the code we wrote above is perfectly applicable, so we'll make a few tweaks to the marker definition and voila!"
   ],
   "metadata": {
    "collapsed": false
   }
  },
  {
   "cell_type": "code",
   "execution_count": 18,
   "outputs": [
    {
     "data": {
      "text/plain": "{2518: {'b', 'f', 'g', 'h', 'l', 'm', 'n', 'q', 'r', 's', 't', 'v', 'w', 'z'},\n 3137: {'b', 'c', 'f', 'g', 'h', 'l', 'm', 'p', 'q', 'r', 's', 't', 'v', 'z'},\n 3138: {'b', 'c', 'f', 'g', 'h', 'l', 'm', 'n', 'p', 'q', 's', 't', 'v', 'z'}}"
     },
     "execution_count": 18,
     "metadata": {},
     "output_type": "execute_result"
    }
   ],
   "source": [
    "message_data = {}\n",
    "message_locator = 14\n",
    "\n",
    "for w in sliding_window(line, 14):\n",
    "    message_data[message_locator] = w\n",
    "    message_locator += 1\n",
    "\n",
    "{k:v for (k,v) in message_data.items() if len(v) > 13}"
   ],
   "metadata": {
    "collapsed": false
   }
  }
 ],
 "metadata": {
  "kernelspec": {
   "display_name": "Python 3",
   "language": "python",
   "name": "python3"
  },
  "language_info": {
   "codemirror_mode": {
    "name": "ipython",
    "version": 2
   },
   "file_extension": ".py",
   "mimetype": "text/x-python",
   "name": "python",
   "nbconvert_exporter": "python",
   "pygments_lexer": "ipython2",
   "version": "2.7.6"
  }
 },
 "nbformat": 4,
 "nbformat_minor": 0
}
