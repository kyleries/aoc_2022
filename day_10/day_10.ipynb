{
 "cells": [
  {
   "cell_type": "markdown",
   "source": [
    "Advent of Code, Day 10"
   ],
   "metadata": {
    "collapsed": false
   }
  },
  {
   "cell_type": "code",
   "execution_count": 139,
   "metadata": {
    "collapsed": true
   },
   "outputs": [
    {
     "data": {
      "text/plain": "14060"
     },
     "execution_count": 139,
     "metadata": {},
     "output_type": "execute_result"
    }
   ],
   "source": [
    "from itertools import islice\n",
    "\n",
    "with open('data.csv') as file:\n",
    "    lines = file.readlines()\n",
    "\n",
    "lines = [l.strip() for l in lines]\n",
    "lines_iter = iter(lines)\n",
    "\n",
    "register = 1\n",
    "cycle_cnt = 0\n",
    "accum = 0\n",
    "\n",
    "def consume(iterator, n=None):\n",
    "    next(islice(iterator, n, n), None)\n",
    "\n",
    "def process_signal(cnt, register):\n",
    "    global accum\n",
    "    cnt += 1\n",
    "\n",
    "    if cnt in (20, 60, 100, 140, 180, 220):\n",
    "        accum += (cnt * register)\n",
    "\n",
    "    return cnt\n",
    "\n",
    "for i in lines:\n",
    "    if i.startswith('addx'):\n",
    "        cycle_cnt = process_signal(cycle_cnt, register)\n",
    "        cycle_cnt = process_signal(cycle_cnt, register)\n",
    "        consume(lines_iter, 1)\n",
    "        register += int(i.split(' ')[1])\n",
    "    elif i.startswith('noop'):\n",
    "        consume(lines_iter, 0)\n",
    "        cycle_cnt = process_signal(cycle_cnt, register)\n",
    "\n",
    "accum\n",
    "\n"
   ]
  }
 ],
 "metadata": {
  "kernelspec": {
   "display_name": "Python 3",
   "language": "python",
   "name": "python3"
  },
  "language_info": {
   "codemirror_mode": {
    "name": "ipython",
    "version": 2
   },
   "file_extension": ".py",
   "mimetype": "text/x-python",
   "name": "python",
   "nbconvert_exporter": "python",
   "pygments_lexer": "ipython2",
   "version": "2.7.6"
  }
 },
 "nbformat": 4,
 "nbformat_minor": 0
}
