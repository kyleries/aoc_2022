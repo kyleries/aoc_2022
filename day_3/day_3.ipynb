{
 "cells": [
  {
   "cell_type": "markdown",
   "source": [
    "Advent of Code, Day 3"
   ],
   "metadata": {
    "collapsed": false
   }
  },
  {
   "cell_type": "markdown",
   "source": [
    "As usual, we'll start with reading in our data file. In this case, the only initial manipulation we'll need is to strip the trailing whitespace."
   ],
   "metadata": {
    "collapsed": false
   }
  },
  {
   "cell_type": "code",
   "execution_count": 156,
   "metadata": {
    "collapsed": true
   },
   "outputs": [],
   "source": [
    "with open('data.csv') as f:\n",
    "    lines = [l.strip() for l in f.readlines()]"
   ]
  },
  {
   "cell_type": "markdown",
   "source": [
    "Next, we'll begin preparing our data structure. We don't necessarily need to know which rucksack belongs to which Elf, but at this point, we can presume that's a likely requirement, so let's plan ahead. We'll employ basic string splicing and set theory to quickly narrow in on what item is the common item between the rucksack compartments."
   ],
   "metadata": {
    "collapsed": false
   }
  },
  {
   "cell_type": "code",
   "execution_count": 157,
   "outputs": [],
   "source": [
    "elv_id = 0\n",
    "rucksacks = {}\n",
    "\n",
    "for l in lines:\n",
    "    rucksacks[elv_id] = frozenset(l[:len(l)//2]).intersection(l[len(l)//2:])\n",
    "    elv_id +=1"
   ],
   "metadata": {
    "collapsed": false
   }
  },
  {
   "cell_type": "markdown",
   "source": [
    "Next, we'll need to create our prioritization data. We can enumerate the integer values for each of the lower and upper case letter sets."
   ],
   "metadata": {
    "collapsed": false
   }
  },
  {
   "cell_type": "code",
   "execution_count": 158,
   "outputs": [],
   "source": [
    "from string import ascii_lowercase, ascii_uppercase\n",
    "lower_case_priorities = {v: i for i,v in enumerate(ascii_lowercase, 1)}\n",
    "upper_case_priorities = {v: i for i,v in enumerate(ascii_uppercase, len(lower_case_priorities) + 1)}\n",
    "\n",
    "priorities = lower_case_priorities | upper_case_priorities"
   ],
   "metadata": {
    "collapsed": false
   }
  },
  {
   "cell_type": "markdown",
   "source": [
    "Finally, we can go through and add up the values of each our our common rucksack items. Of note here is the unpacking of the `frozenset` in order to use the value as the lookup key for the priorities dict. Let's create a general function we can call to compute these values in case we need it again."
   ],
   "metadata": {
    "collapsed": false
   }
  },
  {
   "cell_type": "code",
   "execution_count": 159,
   "outputs": [
    {
     "data": {
      "text/plain": "7793"
     },
     "execution_count": 159,
     "metadata": {},
     "output_type": "execute_result"
    }
   ],
   "source": [
    "def compute_ruck_value(sacks, value=0):\n",
    "    for r in sacks.values():\n",
    "        item, = r\n",
    "        value += priorities[item]\n",
    "\n",
    "    return value\n",
    "\n",
    "compute_ruck_value(rucksacks)"
   ],
   "metadata": {
    "collapsed": false
   }
  },
  {
   "cell_type": "markdown",
   "source": [
    "Part Two\n",
    "\n",
    "In part two, we'll need to make groups of three elves based on the order of the lines in the input file. itertools provides a recipe for just this case. We'll use this `batched` recipe to create our groups."
   ],
   "metadata": {
    "collapsed": false
   }
  },
  {
   "cell_type": "code",
   "execution_count": 160,
   "outputs": [],
   "source": [
    "import itertools\n",
    "\n",
    "def batched(iterable, n):\n",
    "    \"Batch data into lists of length n. The last batch may be shorter.\"\n",
    "    # batched('ABCDEFG', 3) --> ABC DEF G\n",
    "    if n < 1:\n",
    "        raise ValueError('n must be at least one')\n",
    "    it = iter(iterable)\n",
    "    while (batch := list(itertools.islice(it, n))):\n",
    "        yield batch\n",
    "\n",
    "groups = batched(lines, 3)"
   ],
   "metadata": {
    "collapsed": false
   }
  },
  {
   "cell_type": "markdown",
   "source": [
    "With our groups ready to go, we next need to massage our rucksack contents into a form that will allow us to find the common item. We use list comprehension on our batch in order to make each item in the group a set so that we may easily find the intersection (i.e. the common item)."
   ],
   "metadata": {
    "collapsed": false
   }
  },
  {
   "cell_type": "code",
   "execution_count": 161,
   "outputs": [],
   "source": [
    "elv_groups = {}\n",
    "elv_group_id = 0\n",
    "\n",
    "for batch in groups:\n",
    "    if elv_group_id in elv_groups:\n",
    "        elv_groups[elv_group_id].append(batch)\n",
    "    else:\n",
    "        elv_groups[elv_group_id] = [set(b) for b in batch]\n",
    "    elv_group_id += 1"
   ],
   "metadata": {
    "collapsed": false
   }
  },
  {
   "cell_type": "markdown",
   "source": [
    "The `badges` are the common item we will be looking for, using a combination of list expansion and dictionary comprehension to quickly get through all of our elv groups."
   ],
   "metadata": {
    "collapsed": false
   }
  },
  {
   "cell_type": "code",
   "execution_count": 162,
   "outputs": [],
   "source": [
    "badges = {k:set.intersection(*v) for (k,v) in elv_groups.items()}"
   ],
   "metadata": {
    "collapsed": false
   }
  },
  {
   "cell_type": "markdown",
   "source": [
    "Finally, as expected, we can use our general compute ruck value function to calculate the sum of the contents based on their priority scores."
   ],
   "metadata": {
    "collapsed": false
   }
  },
  {
   "cell_type": "code",
   "execution_count": 163,
   "outputs": [
    {
     "data": {
      "text/plain": "2499"
     },
     "execution_count": 163,
     "metadata": {},
     "output_type": "execute_result"
    }
   ],
   "source": [
    "compute_ruck_value(badges)"
   ],
   "metadata": {
    "collapsed": false
   }
  }
 ],
 "metadata": {
  "kernelspec": {
   "display_name": "Python 3",
   "language": "python",
   "name": "python3"
  },
  "language_info": {
   "codemirror_mode": {
    "name": "ipython",
    "version": 2
   },
   "file_extension": ".py",
   "mimetype": "text/x-python",
   "name": "python",
   "nbconvert_exporter": "python",
   "pygments_lexer": "ipython2",
   "version": "2.7.6"
  }
 },
 "nbformat": 4,
 "nbformat_minor": 0
}
