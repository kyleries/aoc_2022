{
 "cells": [
  {
   "cell_type": "markdown",
   "source": [
    "Advent of Code, Day 3"
   ],
   "metadata": {
    "collapsed": false
   }
  },
  {
   "cell_type": "markdown",
   "source": [
    "As usual, we'll start with reading in our data file. In this case, the only initial manipulation we'll need is to strip the trailing whitespace."
   ],
   "metadata": {
    "collapsed": false
   }
  },
  {
   "cell_type": "code",
   "execution_count": 140,
   "metadata": {
    "collapsed": true
   },
   "outputs": [],
   "source": [
    "with open('data.csv') as f:\n",
    "    lines = [l.strip() for l in f.readlines()]"
   ]
  },
  {
   "cell_type": "markdown",
   "source": [
    "Next, we'll begin preparing our data structure. We don't necessarily need to know which rucksack belongs to which Elf, but at this point, we can presume that's a likely requirement, so let's plan ahead. We'll employ basic string splicing and set theory to quickly narrow in on what item is the common item between the rucksack compartments."
   ],
   "metadata": {
    "collapsed": false
   }
  },
  {
   "cell_type": "code",
   "execution_count": 141,
   "outputs": [
    {
     "data": {
      "text/plain": "{0: frozenset({'l'}),\n 1: frozenset({'j'}),\n 2: frozenset({'q'}),\n 3: frozenset({'j'}),\n 4: frozenset({'Z'}),\n 5: frozenset({'w'}),\n 6: frozenset({'g'}),\n 7: frozenset({'l'}),\n 8: frozenset({'b'}),\n 9: frozenset({'n'}),\n 10: frozenset({'s'}),\n 11: frozenset({'j'}),\n 12: frozenset({'H'}),\n 13: frozenset({'b'}),\n 14: frozenset({'T'}),\n 15: frozenset({'Z'}),\n 16: frozenset({'W'}),\n 17: frozenset({'N'}),\n 18: frozenset({'z'}),\n 19: frozenset({'s'}),\n 20: frozenset({'J'}),\n 21: frozenset({'m'}),\n 22: frozenset({'V'}),\n 23: frozenset({'j'}),\n 24: frozenset({'S'}),\n 25: frozenset({'m'}),\n 26: frozenset({'p'}),\n 27: frozenset({'N'}),\n 28: frozenset({'g'}),\n 29: frozenset({'J'}),\n 30: frozenset({'P'}),\n 31: frozenset({'m'}),\n 32: frozenset({'Z'}),\n 33: frozenset({'L'}),\n 34: frozenset({'J'}),\n 35: frozenset({'v'}),\n 36: frozenset({'V'}),\n 37: frozenset({'m'}),\n 38: frozenset({'l'}),\n 39: frozenset({'l'}),\n 40: frozenset({'F'}),\n 41: frozenset({'L'}),\n 42: frozenset({'G'}),\n 43: frozenset({'f'}),\n 44: frozenset({'g'}),\n 45: frozenset({'n'}),\n 46: frozenset({'c'}),\n 47: frozenset({'f'}),\n 48: frozenset({'n'}),\n 49: frozenset({'d'}),\n 50: frozenset({'F'}),\n 51: frozenset({'H'}),\n 52: frozenset({'d'}),\n 53: frozenset({'W'}),\n 54: frozenset({'H'}),\n 55: frozenset({'P'}),\n 56: frozenset({'D'}),\n 57: frozenset({'L'}),\n 58: frozenset({'W'}),\n 59: frozenset({'S'}),\n 60: frozenset({'v'}),\n 61: frozenset({'H'}),\n 62: frozenset({'q'}),\n 63: frozenset({'h'}),\n 64: frozenset({'p'}),\n 65: frozenset({'l'}),\n 66: frozenset({'N'}),\n 67: frozenset({'r'}),\n 68: frozenset({'g'}),\n 69: frozenset({'g'}),\n 70: frozenset({'S'}),\n 71: frozenset({'N'}),\n 72: frozenset({'S'}),\n 73: frozenset({'s'}),\n 74: frozenset({'C'}),\n 75: frozenset({'Q'}),\n 76: frozenset({'v'}),\n 77: frozenset({'m'}),\n 78: frozenset({'H'}),\n 79: frozenset({'M'}),\n 80: frozenset({'j'}),\n 81: frozenset({'r'}),\n 82: frozenset({'g'}),\n 83: frozenset({'m'}),\n 84: frozenset({'C'}),\n 85: frozenset({'w'}),\n 86: frozenset({'t'}),\n 87: frozenset({'S'}),\n 88: frozenset({'M'}),\n 89: frozenset({'B'}),\n 90: frozenset({'V'}),\n 91: frozenset({'q'}),\n 92: frozenset({'d'}),\n 93: frozenset({'F'}),\n 94: frozenset({'R'}),\n 95: frozenset({'L'}),\n 96: frozenset({'g'}),\n 97: frozenset({'V'}),\n 98: frozenset({'n'}),\n 99: frozenset({'P'}),\n 100: frozenset({'C'}),\n 101: frozenset({'F'}),\n 102: frozenset({'L'}),\n 103: frozenset({'N'}),\n 104: frozenset({'T'}),\n 105: frozenset({'C'}),\n 106: frozenset({'s'}),\n 107: frozenset({'m'}),\n 108: frozenset({'L'}),\n 109: frozenset({'G'}),\n 110: frozenset({'S'}),\n 111: frozenset({'m'}),\n 112: frozenset({'Z'}),\n 113: frozenset({'F'}),\n 114: frozenset({'s'}),\n 115: frozenset({'Q'}),\n 116: frozenset({'l'}),\n 117: frozenset({'m'}),\n 118: frozenset({'t'}),\n 119: frozenset({'j'}),\n 120: frozenset({'w'}),\n 121: frozenset({'h'}),\n 122: frozenset({'j'}),\n 123: frozenset({'N'}),\n 124: frozenset({'C'}),\n 125: frozenset({'J'}),\n 126: frozenset({'N'}),\n 127: frozenset({'Z'}),\n 128: frozenset({'s'}),\n 129: frozenset({'z'}),\n 130: frozenset({'f'}),\n 131: frozenset({'t'}),\n 132: frozenset({'H'}),\n 133: frozenset({'L'}),\n 134: frozenset({'G'}),\n 135: frozenset({'n'}),\n 136: frozenset({'h'}),\n 137: frozenset({'m'}),\n 138: frozenset({'F'}),\n 139: frozenset({'p'}),\n 140: frozenset({'s'}),\n 141: frozenset({'n'}),\n 142: frozenset({'H'}),\n 143: frozenset({'M'}),\n 144: frozenset({'G'}),\n 145: frozenset({'q'}),\n 146: frozenset({'M'}),\n 147: frozenset({'l'}),\n 148: frozenset({'j'}),\n 149: frozenset({'J'}),\n 150: frozenset({'W'}),\n 151: frozenset({'l'}),\n 152: frozenset({'P'}),\n 153: frozenset({'s'}),\n 154: frozenset({'l'}),\n 155: frozenset({'j'}),\n 156: frozenset({'G'}),\n 157: frozenset({'g'}),\n 158: frozenset({'M'}),\n 159: frozenset({'d'}),\n 160: frozenset({'l'}),\n 161: frozenset({'z'}),\n 162: frozenset({'L'}),\n 163: frozenset({'M'}),\n 164: frozenset({'t'}),\n 165: frozenset({'p'}),\n 166: frozenset({'r'}),\n 167: frozenset({'C'}),\n 168: frozenset({'t'}),\n 169: frozenset({'d'}),\n 170: frozenset({'l'}),\n 171: frozenset({'G'}),\n 172: frozenset({'H'}),\n 173: frozenset({'n'}),\n 174: frozenset({'T'}),\n 175: frozenset({'Q'}),\n 176: frozenset({'L'}),\n 177: frozenset({'Z'}),\n 178: frozenset({'F'}),\n 179: frozenset({'j'}),\n 180: frozenset({'R'}),\n 181: frozenset({'C'}),\n 182: frozenset({'S'}),\n 183: frozenset({'R'}),\n 184: frozenset({'m'}),\n 185: frozenset({'c'}),\n 186: frozenset({'T'}),\n 187: frozenset({'f'}),\n 188: frozenset({'s'}),\n 189: frozenset({'n'}),\n 190: frozenset({'c'}),\n 191: frozenset({'m'}),\n 192: frozenset({'G'}),\n 193: frozenset({'T'}),\n 194: frozenset({'d'}),\n 195: frozenset({'h'}),\n 196: frozenset({'N'}),\n 197: frozenset({'Q'}),\n 198: frozenset({'g'}),\n 199: frozenset({'S'}),\n 200: frozenset({'V'}),\n 201: frozenset({'H'}),\n 202: frozenset({'G'}),\n 203: frozenset({'l'}),\n 204: frozenset({'z'}),\n 205: frozenset({'j'}),\n 206: frozenset({'F'}),\n 207: frozenset({'b'}),\n 208: frozenset({'G'}),\n 209: frozenset({'p'}),\n 210: frozenset({'P'}),\n 211: frozenset({'W'}),\n 212: frozenset({'d'}),\n 213: frozenset({'S'}),\n 214: frozenset({'G'}),\n 215: frozenset({'z'}),\n 216: frozenset({'D'}),\n 217: frozenset({'V'}),\n 218: frozenset({'G'}),\n 219: frozenset({'g'}),\n 220: frozenset({'m'}),\n 221: frozenset({'Z'}),\n 222: frozenset({'h'}),\n 223: frozenset({'V'}),\n 224: frozenset({'v'}),\n 225: frozenset({'J'}),\n 226: frozenset({'Q'}),\n 227: frozenset({'h'}),\n 228: frozenset({'W'}),\n 229: frozenset({'j'}),\n 230: frozenset({'H'}),\n 231: frozenset({'G'}),\n 232: frozenset({'D'}),\n 233: frozenset({'P'}),\n 234: frozenset({'m'}),\n 235: frozenset({'v'}),\n 236: frozenset({'d'}),\n 237: frozenset({'v'}),\n 238: frozenset({'w'}),\n 239: frozenset({'n'}),\n 240: frozenset({'l'}),\n 241: frozenset({'G'}),\n 242: frozenset({'g'}),\n 243: frozenset({'m'}),\n 244: frozenset({'d'}),\n 245: frozenset({'Z'}),\n 246: frozenset({'Q'}),\n 247: frozenset({'g'}),\n 248: frozenset({'p'}),\n 249: frozenset({'d'}),\n 250: frozenset({'b'}),\n 251: frozenset({'M'}),\n 252: frozenset({'n'}),\n 253: frozenset({'z'}),\n 254: frozenset({'V'}),\n 255: frozenset({'j'}),\n 256: frozenset({'D'}),\n 257: frozenset({'G'}),\n 258: frozenset({'q'}),\n 259: frozenset({'c'}),\n 260: frozenset({'b'}),\n 261: frozenset({'Q'}),\n 262: frozenset({'W'}),\n 263: frozenset({'N'}),\n 264: frozenset({'Z'}),\n 265: frozenset({'z'}),\n 266: frozenset({'V'}),\n 267: frozenset({'M'}),\n 268: frozenset({'C'}),\n 269: frozenset({'g'}),\n 270: frozenset({'s'}),\n 271: frozenset({'d'}),\n 272: frozenset({'L'}),\n 273: frozenset({'q'}),\n 274: frozenset({'z'}),\n 275: frozenset({'V'}),\n 276: frozenset({'z'}),\n 277: frozenset({'Q'}),\n 278: frozenset({'s'}),\n 279: frozenset({'G'}),\n 280: frozenset({'d'}),\n 281: frozenset({'J'}),\n 282: frozenset({'W'}),\n 283: frozenset({'g'}),\n 284: frozenset({'Z'}),\n 285: frozenset({'H'}),\n 286: frozenset({'D'}),\n 287: frozenset({'N'}),\n 288: frozenset({'t'}),\n 289: frozenset({'R'}),\n 290: frozenset({'n'}),\n 291: frozenset({'c'}),\n 292: frozenset({'d'}),\n 293: frozenset({'R'}),\n 294: frozenset({'J'}),\n 295: frozenset({'l'}),\n 296: frozenset({'T'}),\n 297: frozenset({'Q'}),\n 298: frozenset({'j'}),\n 299: frozenset({'c'})}"
     },
     "execution_count": 141,
     "metadata": {},
     "output_type": "execute_result"
    }
   ],
   "source": [
    "elv_id = 0\n",
    "rucksacks = {}\n",
    "\n",
    "for l in lines:\n",
    "    rucksacks[elv_id] = frozenset(l[:len(l)//2]).intersection(l[len(l)//2:])\n",
    "    elv_id +=1"
   ],
   "metadata": {
    "collapsed": false
   }
  },
  {
   "cell_type": "markdown",
   "source": [
    "Next, we'll need to create our prioritization data. We can enumerate the integer values for each of the lower and upper case letter sets."
   ],
   "metadata": {
    "collapsed": false
   }
  },
  {
   "cell_type": "code",
   "execution_count": 142,
   "outputs": [],
   "source": [
    "from string import ascii_lowercase, ascii_uppercase\n",
    "lower_case_priorities = {v: i for i,v in enumerate(ascii_lowercase, 1)}\n",
    "upper_case_priorities = {v: i for i,v in enumerate(ascii_uppercase, len(lower_case_priorities) + 1)}\n",
    "\n",
    "priorities = lower_case_priorities | upper_case_priorities"
   ],
   "metadata": {
    "collapsed": false
   }
  },
  {
   "cell_type": "markdown",
   "source": [
    "Finally, we can go through and add up the values of each our our common rucksack items. Of note here is the unpacking of the `frozenset` in order to use the value as the lookup key for the priorities dict. Let's create a general function we can call to compute these values in case we need it again."
   ],
   "metadata": {
    "collapsed": false
   }
  },
  {
   "cell_type": "code",
   "execution_count": 143,
   "outputs": [
    {
     "data": {
      "text/plain": "7793"
     },
     "execution_count": 143,
     "metadata": {},
     "output_type": "execute_result"
    }
   ],
   "source": [
    "def compute_ruck_value(sacks, value=0):\n",
    "    for r in sacks.values():\n",
    "        item, = r\n",
    "        value += priorities[item]\n",
    "\n",
    "    return value\n",
    "\n",
    "compute_ruck_value(rucksacks)"
   ],
   "metadata": {
    "collapsed": false
   }
  },
  {
   "cell_type": "markdown",
   "source": [
    "Part Two\n",
    "\n",
    "In part two, we'll need to make groups of three elves based on the order of the lines in the input file. itertools provides a recipe for just this case. We'll use this `batched` recipe to create our groups."
   ],
   "metadata": {
    "collapsed": false
   }
  },
  {
   "cell_type": "code",
   "execution_count": null,
   "outputs": [],
   "source": [
    "import itertools\n",
    "\n",
    "def batched(iterable, n):\n",
    "    \"Batch data into lists of length n. The last batch may be shorter.\"\n",
    "    # batched('ABCDEFG', 3) --> ABC DEF G\n",
    "    if n < 1:\n",
    "        raise ValueError('n must be at least one')\n",
    "    it = iter(iterable)\n",
    "    while (batch := list(itertools.islice(it, n))):\n",
    "        yield batch\n",
    "\n",
    "groups = batched(lines, 3)"
   ],
   "metadata": {
    "collapsed": false
   }
  },
  {
   "cell_type": "markdown",
   "source": [
    "With our groups ready to go, we next need to massage our rucksack contents into a form that will allow us to find the common item. We use list comprehension on our batch in order to make each item in the group a set so that we may easily find the intersection (i.e. the common item)."
   ],
   "metadata": {
    "collapsed": false
   }
  },
  {
   "cell_type": "code",
   "execution_count": 144,
   "outputs": [
    {
     "name": "stdout",
     "output_type": "stream",
     "text": [
      "{0: [{'B', 'r', 'p', 'P', 'M', 'T', 's', 'd', 'C', 'c', 'w', 'V', 't', 'l', 'G', 'h', 'L', 'R', 'f', 'D'}, {'t', 'Z', 'N', 'b', 'w', 'g', 'd', 'C', 'T', 'S', 'D', 'h', 'f', 'H', 'j', 'F', 'W', 'J'}, {'Z', 't', 'M', 'N', 'P', 'Q', 'g', 'm', 'B', 's', 'L', 'q', 'H', 'p', 'r', 'W', 'n', 'V'}], 1: [{'p', 'Q', 'm', 'H', 'j', 'J', 'z', 'd', 'C', 'c', 'F', 'V', 't', 'l', 'N', 'G', 'h', 'R', 'n'}, {'Z', 'N', 'g', 'C', 'G', 'h', 'L', 'r', 'F', 'W', 'J'}, {'P', 'M', 'v', 'b', 'l', 'N', 't', 'd', 's', 'D', 'B', 'f', 'q', 'H', 'w', 'z'}], 2: [{'t', 'v', 'P', 'N', 'w', 'g', 'd', 'C', 'T', 's', 'D', 'B', 'R', 'H', 'W', 'J', 'z'}, {'B', 'r', 'Z', 'Q', 'T', 'm', 's', 'j', 'z', 'd', 'F', 'W', 'l', 'G', 'h', 'L', 'D', 'f', 'R', 'n'}, {'Z', 'v', 'b', 'C', 'm', 'S', 'B', 'h', 'j', 'H', 'F', 'p', 'J'}], 3: [{'M', 'v', 'Z', 'w', 'g', 'd', 'C', 'c', 'S', 'G', 'D', 'J', 'B', 'f', 'p', 'W', 'n'}, {'P', 'Z', 'b', 'N', 'Q', 'd', 's', 'h', 'D', 'f', 'w', 'V'}, {'g', 'q', 'r', 'b', 'Q', 'T', 'm', 'S', 'j', 'J', 'c', 'F', 'W', 'V', 't', 'G', 'h', 'L', 'R', 'f'}], 4: [{'t', 'N', 'g', 'Q', 'C', 'c', 'n', 'G', 'h', 'f', 'H', 'r', 'w'}, {'g', 'q', 'p', 'r', 'P', 'M', 'b', 'Q', 'm', 'S', 'j', 'J', 'z', 'v', 'F', 'W', 'w', 'V', 't', 'l', 'n'}, {'P', 'Z', 'N', 'd', 'T', 'C', 'm', 'S', 'G', 's', 'L', 'R', 'c', 'q', 'p', 'w'}], 5: [{'q', 'p', 'r', 'Z', 'b', 'Q', 'm', 'S', 's', 'H', 'j', 'z', 'C', 'c', 'F', 'V', 'l', 'L', 'n'}, {'t', 'v', 'P', 'M', 'b', 'g', 'd', 'c', 'D', 'L', 'H', 'j', 'F', 'W', 'r', 'J'}, {'M', 'v', 't', 'N', 'l', 'Q', 'd', 'n', 'T', 'S', 'h', 'D', 'R', 'f', 'p', 'F', 'w'}], 6: [{'Z', 'v', 'V', 'T', 'm', 'S', 'q', 'F', 'W', 'n', 'z'}, {'g', 'p', 'r', 'M', 'Q', 'm', 's', 'H', 'v', 'd', 'C', 'c', 'F', 'W', 'w', 'V', 't', 'l', 'N', 'G', 'D', 'L'}, {'t', 'l', 'P', 'N', 'g', 'C', 'n', 'm', 'S', 'h', 'f', 'H', 'r', 'j', 'J'}], 7: [{'g', 'B', 'p', 'Z', 'Q', 'T', 'm', 's', 'H', 'J', 'v', 'F', 'W', 'l', 'N', 'G', 'h', 'L', 'R', 'f'}, {'q', 'r', 'p', 'P', 'M', 'Q', 'S', 's', 'J', 'z', 'd', 'F', 'W', 'w', 'V', 't', 'l', 'G', 'h', 'n'}, {'g', 'B', 'q', 'r', 'M', 'P', 'Z', 'b', 'Q', 'T', 'S', 'j', 'z', 'v', 'C', 'c', 'w', 't', 'N', 'D', 'L', 'n'}], 8: [{'P', 'M', 'Z', 'b', 'Q', 'T', 'c', 'n', 'S', 'f', 'q', 'W', 'w'}, {'t', 'M', 'N', 'g', 'd', 'C', 'c', 'm', 'G', 'h', 'D', 's', 'f', 'R', 'j', 'L', 'n'}, {'M', 'l', 'N', 'b', 'g', 'd', 'T', 's', 'D', 'h', 'B', 'p', 'r', 'W', 'J', 'z'}], 9: [{'r', 'Z', 'P', 'M', 'T', 'm', 'S', 'H', 'z', 'v', 'd', 'C', 'W', 'w', 'N', 'G', 'D', 'L', 'f', 'n'}, {'g', 'B', 'p', 'r', 'P', 'M', 'b', 'Q', 'm', 's', 'j', 'v', 'd', 'V', 't', 'G', 'h', 'D', 'R', 'f', 'n'}, {'q', 'r', 'p', 'Z', 'b', 'Q', 'S', 's', 'j', 'J', 'z', 'C', 'c', 'F', 'W', 'V', 't', 'l', 'h', 'L', 'R'}], 10: [{'B', 'q', 'r', 'P', 'M', 'b', 'Q', 'S', 's', 'j', 'H', 'z', 'v', 'd', 'C', 'W', 'V', 't', 'G', 'h', 'f', 'n'}, {'N', 'w', 'g', 'm', 'S', 'G', 'D', 'h', 'f', 'p', 'W', 'J', 'z'}, {'g', 'p', 'Z', 'M', 'Q', 'j', 'v', 'd', 'C', 'c', 'F', 'W', 'w', 'V', 't', 'l', 'N', 'L', 'R'}], 11: [{'B', 'q', 'r', 'Z', 'P', 'T', 'j', 'H', 'z', 'C', 'c', 'F', 'W', 'V', 'l', 'G', 'D', 'L', 'R', 'n'}, {'P', 'V', 'N', 'b', 'Q', 'd', 'T', 'C', 'm', 's', 'J', 'H', 'p', 'F', 'W', 'w', 'z'}, {'g', 'q', 'M', 'Z', 'b', 'm', 'S', 's', 'H', 'j', 'v', 'd', 'c', 'w', 't', 'l', 'N', 'h', 'D', 'f', 'n'}], 12: [{'t', 'V', 'T', 'G', 's', 'D', 'H', 'F', 'J', 'z'}, {'t', 'g', 'Q', 'C', 'c', 'm', 'B', 'L', 'R', 'j', 'r', 'F', 'H', 'n'}, {'Z', 'l', 'v', 'M', 't', 'g', 'd', 'c', 'S', 'B', 'R', 'q', 'p', 'n'}], 13: [{'q', 'r', 'p', 'M', 'P', 'T', 'S', 's', 'z', 'C', 'W', 'V', 't', 'l', 'N', 'G', 'h', 'f', 'n'}, {'B', 'q', 'r', 'Z', 'P', 'b', 'Q', 'T', 'm', 's', 'H', 'j', 'z', 'd', 'c', 'F', 'W', 'w', 'V', 'D', 'R'}, {'M', 'v', 'N', 'Q', 'g', 'd', 'C', 'm', 'B', 'D', 'L', 'G', 'f', 'H', 'V'}], 14: [{'P', 'V', 'N', 'w', 'Q', 'd', 'n', 'c', 'm', 'C', 'G', 'D', 'h', 'B', 'H', 'j', 'J', 'z'}, {'t', 'l', 'V', 'b', 'C', 'S', 's', 'B', 'L', 'R', 'f', 'h', 'j', 'r', 'p', 'w', 'z'}, {'g', 'q', 'r', 'Z', 'M', 'P', 'T', 's', 'H', 'J', 'z', 'v', 'd', 'c', 'W', 't', 'N', 'L', 'R'}], 15: [{'Z', 'v', 'l', 'N', 'b', 't', 'g', 'V', 'P', 'm', 'G', 'L', 'q', 'H', 'p', 'r', 'n', 'z'}, {'B', 'p', 'r', 'M', 'P', 'Q', 'S', 's', 'j', 'H', 'd', 'C', 'c', 'w', 'V', 't', 'l', 'G', 'D'}, {'v', 'N', 'b', 'g', 'B', 's', 'G', 'h', 'f', 'D', 'q', 'L', 'F', 'W'}], 16: [{'t', 'v', 'P', 'N', 'g', 'n', 'c', 'C', 'G', 'J', 'R', 'f', 'q', 'H', 'r', 'W', 'w'}, {'Z', 'v', 'P', 'b', 'd', 'C', 'm', 'S', 's', 'h', 'D', 'B', 'f', 'R', 'j', 'r', 'p'}, {'Z', 'v', 'l', 'b', 't', 'N', 'c', 'S', 'q', 'H', 'F', 'W'}], 17: [{'B', 'p', 'Z', 'b', 'Q', 'T', 'S', 's', 'j', 'H', 'v', 'c', 'F', 'V', 'l', 'G', 'R', 'f', 'n'}, {'M', 't', 'l', 'V', 'P', 'Q', 'd', 'S', 'h', 'L', 'D', 'J', 'q', 'f', 'r', 'w', 'z'}, {'Z', 'l', 'C', 'c', 'm', 'h', 'R', 'q', 'W', 'n', 'z'}], 18: [{'g', 'B', 'b', 'Q', 'm', 'S', 's', 'H', 'j', 'v', 'd', 'c', 'W', 'w', 'V', 'l', 'R', 'f', 'n'}, {'t', 'P', 'Z', 'v', 'w', 'S', 'G', 'h', 'L', 'J', 'V'}, {'g', 'B', 'q', 'p', 'Z', 'M', 'T', 'j', 'J', 'C', 'F', 'W', 'V', 't', 'l', 'N', 'G', 'D', 'L', 'R', 'f'}], 19: [{'Z', 'P', 'v', 'N', 'l', 'm', 'G', 'h', 'L', 'f', 'q', 'r', 'J'}, {'l', 'Q', 'g', 'd', 'T', 'c', 'C', 'm', 'G', 'R', 'f', 'q', 'H', 'j', 'W', 'J'}, {'B', 'p', 'r', 'Z', 'M', 'Q', 'T', 'S', 'z', 'd', 'C', 'c', 'w', 't', 'G', 'h', 'D', 'R', 'n'}], 20: [{'v', 'l', 'w', 'S', 'B', 's', 'h', 'G', 'f', 'j', 'W', 'n'}, {'g', 'p', 'r', 'Z', 'M', 'P', 'b', 'T', 'm', 's', 'H', 'j', 'z', 'C', 'F', 'w', 'V', 'l', 'N', 'G', 'h'}, {'M', 'Z', 't', 'd', 'c', 'm', 'S', 's', 'D', 'L', 'R', 'f', 'q', 'p', 'n', 'V'}], 21: [{'P', 'b', 'T', 'm', 'S', 'H', 'j', 'J', 'z', 'v', 'd', 'C', 'F', 'V', 'N', 'h', 'L', 'R', 'n'}, {'g', 'B', 'p', 'M', 'Q', 'T', 'S', 's', 'j', 'J', 'v', 'd', 'F', 'w', 'V', 't', 'N', 'G', 'D', 'f', 'n'}, {'M', 'l', 'b', 'g', 'm', 's', 'B', 'D', 'R', 'n', 'z'}], 22: [{'Z', 'l', 't', 'N', 'v', 'w', 'Q', 'C', 'c', 'L', 'R', 'f', 'W', 'J', 'z'}, {'B', 'q', 'p', 'r', 'M', 'Q', 'T', 'm', 'S', 's', 'H', 'z', 'v', 'd', 'W', 'V', 'G', 'h', 'D', 'R'}, {'g', 'p', 'M', 'Z', 'P', 'b', 'H', 'j', 'J', 'd', 'C', 'c', 'F', 't', 'l', 'G', 'D', 'h', 'L', 'f', 'R', 'n'}], 23: [{'Z', 'l', 'b', 'g', 'Q', 'C', 'c', 's', 'h', 'L', 'R', 'f', 'G', 'r', 'J', 'z'}, {'M', 'l', 'b', 'z', 'Q', 'd', 'T', 'S', 'B', 'D', 'f', 'q', 'H', 'p', 'r', 'J', 'V'}, {'B', 'q', 'p', 'P', 'Z', 'm', 's', 'H', 'j', 'v', 'C', 'c', 'F', 'V', 't', 'l', 'N', 'D', 'L', 'R', 'n'}], 24: [{'p', 'r', 'M', 'Z', 'P', 'b', 'T', 'm', 'S', 'H', 'j', 'J', 'z', 'd', 'c', 'F', 'W', 'w', 'l', 'N', 'L', 'R', 'f'}, {'B', 'q', 'P', 'M', 'Z', 'b', 'T', 's', 'j', 'J', 'v', 'w', 'V', 't', 'l', 'N', 'G', 'D', 'h', 'f', 'n'}, {'t', 'v', 'N', 'Q', 'd', 'C', 'h', 'D', 'H', 'r', 'F', 'W', 'V'}], 25: [{'g', 'q', 'r', 'Z', 'M', 'Q', 'T', 'S', 'z', 'd', 'C', 'c', 'F', 'W', 't', 'G', 'D', 'L', 'R', 'f'}, {'P', 'v', 'b', 'd', 'T', 'c', 'B', 'h', 'J', 'L', 'D', 'G', 'H', 'n', 'V'}, {'P', 't', 'b', 'w', 'd', 'C', 'm', 'h', 'R', 'H', 'p', 'j', 'r', 'n'}], 26: [{'P', 'l', 'v', 'N', 'T', 'C', 'm', 'n', 's', 'h', 'D', 'J', 'H', 'p', 'r', 'w', 'z'}, {'t', 'M', 'b', 'g', 'd', 'C', 'n', 'B', 's', 'D', 'q', 'r', 'F', 'W', 'J'}, {'g', 'B', 'P', 'Q', 'T', 'm', 'S', 'j', 'z', 'd', 'F', 'W', 'w', 't', 'l', 'G', 'D', 'L', 'R', 'h'}], 27: [{'B', 'q', 'p', 'r', 'Z', 'b', 'T', 'z', 'd', 'C', 'c', 'F', 'w', 'V', 't', 'l', 'N', 'G', 'L', 'R', 'n'}, {'P', 'l', 'g', 'd', 'D', 'L', 'R', 'f', 'H', 'j', 'J'}, {'M', 't', 'b', 'N', 'T', 'm', 'S', 'D', 'L', 'h', 'f', 'j', 'J', 'z'}], 28: [{'p', 'M', 'b', 'Q', 'T', 'S', 's', 'j', 'J', 'z', 'v', 'd', 'C', 'W', 'l', 'G', 'D', 'h', 'R', 'f'}, {'P', 'N', 'b', 'Q', 'd', 'n', 'c', 'm', 'S', 'B', 's', 'L', 'h', 'J', 'q', 'H', 'r', 'w'}, {'t', 'v', 'N', 'z', 'c', 'm', 'S', 'B', 'D', 'L', 'j', 'W', 'V'}], 29: [{'Z', 'v', 'P', 'l', 'z', 'w', 'C', 'c', 'm', 'S', 's', 'D', 'R', 'f', 'q', 'H', 'J', 'V'}, {'r', 'p', 'M', 'Q', 's', 'H', 'J', 'z', 'd', 'F', 'w', 't', 'l', 'N', 'G', 'D', 'L', 'R', 'n'}, {'t', 'v', 'Z', 'b', 'g', 'C', 'B', 'h', 'L', 'J', 'q', 'j', 'r', 'F', 'n'}], 30: [{'M', 'Z', 'l', 'b', 'Q', 'c', 'S', 'B', 'D', 'h', 'j', 'H', 'F', 'J', 'V'}, {'g', 'q', 'p', 'r', 'M', 'Z', 'b', 'T', 'm', 'S', 's', 'H', 'z', 'w', 't', 'l', 'L', 'f', 'n'}, {'B', 'p', 'P', 'M', 'Q', 'T', 's', 'j', 'z', 'd', 'C', 'c', 'W', 'G', 'h', 'D', 'R', 'f', 'n'}], 31: [{'B', 'q', 'p', 'P', 'M', 'S', 'j', 'H', 'J', 'v', 'd', 'C', 'F', 'W', 'w', 'V', 't', 'N', 'G'}, {'g', 'B', 'q', 'r', 'Z', 'M', 'Q', 's', 'J', 'v', 'c', 'w', 'V', 't', 'l', 'G', 'D', 'h', 'R', 'f', 'n'}, {'Z', 'N', 'Q', 'g', 'T', 'C', 'S', 's', 'h', 'D', 'L', 'G', 'j', 'r', 'H', 'W', 'z'}], 32: [{'P', 't', 'b', 'N', 'g', 'd', 'C', 'c', 'T', 'm', 'B', 'R', 'p', 'F', 'z'}, {'Z', 'v', 't', 'P', 'N', 'z', 'm', 's', 'q', 'H', 'r', 'V'}, {'Z', 't', 'W', 'd', 'n', 'C', 'c', 'S', 'G', 'D', 'h', 'J', 'H', 'r', 'j', 'F', 'w'}], 33: [{'M', 'P', 't', 'N', 'Q', 'T', 'B', 'G', 'R', 'q', 'j', 'W', 'J'}, {'B', 'p', 'b', 'm', 'S', 's', 'H', 'j', 'z', 'C', 'c', 'W', 'w', 't', 'N', 'G', 'h', 'L', 'f'}, {'Z', 'l', 'M', 'w', 'g', 'd', 'T', 'S', 's', 'D', 'J', 'R', 'f', 'H', 'r', 'F', 'j', 'n'}], 34: [{'P', 'l', 'v', 'g', 'n', 'c', 'm', 'S', 'G', 'D', 'L', 'R', 'q', 'p', 'F', 'W', 'J', 'z'}, {'g', 'B', 'q', 'Z', 'M', 'P', 'b', 'Q', 's', 'H', 'j', 'C', 'c', 'w', 'V', 'N', 'G', 'R', 'f'}, {'Z', 'l', 't', 'g', 'd', 'C', 'T', 'm', 'S', 'f', 'j', 'H', 'r', 'p', 'n', 'V'}], 35: [{'g', 'p', 'r', 'P', 'M', 'b', 'j', 'J', 'v', 'd', 'C', 'F', 'V', 't', 'l', 'G', 'D', 'L', 'n'}, {'Z', 'M', 'T', 'c', 'n', 's', 'h', 'B', 'R', 'J', 'f', 'j', 'r', 'D', 'H', 'w'}, {'Z', 't', 'V', 'N', 'Q', 'T', 'c', 'm', 'S', 'B', 'G', 'q', 'j', 'p', 'F', 'z'}], 36: [{'t', 'b', 'd', 'C', 's', 'D', 'L', 'R', 'h', 'j', 'H', 'r', 'W', 'p', 'z'}, {'g', 'B', 'q', 'p', 'Z', 'M', 'Q', 'T', 'm', 's', 'z', 'v', 'C', 'c', 'w', 'V', 't', 'l', 'N', 'G', 'h', 'D', 'f'}, {'B', 'q', 'P', 'b', 'Q', 'T', 'S', 'H', 'j', 'J', 'v', 'd', 'C', 'c', 'W', 'V', 'l', 'N', 'R', 'f', 'n'}], 37: [{'t', 'g', 'd', 'C', 'c', 'm', 's', 'h', 'B', 'R', 'f', 'J', 'r', 'n', 'V'}, {'Z', 'v', 't', 'b', 'N', 'w', 'g', 'd', 'G', 'D', 'H', 'p', 'W', 'J'}, {'q', 'p', 'M', 'P', 'b', 'Q', 'T', 'S', 'H', 'j', 'J', 'z', 'v', 'C', 'c', 'F', 'w', 'V', 'D', 'L', 'R', 'h', 'n'}], 38: [{'B', 'q', 'p', 'r', 'M', 'P', 'm', 'S', 's', 'H', 'j', 'v', 'F', 'w', 'V', 't', 'N', 'G', 'D', 'L', 'h', 'f'}, {'P', 'v', 'Q', 'd', 'T', 'C', 'c', 'S', 'G', 'h', 'R', 'j', 'r', 'F', 'W', 'J', 'V'}, {'g', 'q', 'p', 'Z', 'b', 'T', 'm', 'j', 'J', 'z', 'd', 'C', 'c', 'W', 'w', 't', 'l', 'L', 'R', 'f', 'n'}], 39: [{'P', 'l', 'v', 'N', 'g', 'C', 'm', 'S', 'h', 'L', 'f', 'r', 'W', 'n'}, {'g', 'q', 'p', 'M', 'b', 'Q', 's', 'H', 'J', 'v', 'C', 'c', 'F', 't', 'l', 'D', 'L', 'h', 'f', 'n'}, {'P', 'Z', 'b', 'd', 'G', 's', 'D', 'L', 'R', 'q', 'j', 'V'}], 40: [{'t', 'l', 'v', 'b', 'N', 'g', 'Q', 'C', 'B', 'G', 's', 'R', 'D', 'r', 'F', 'p', 'w', 'z'}, {'M', 'Z', 'v', 'N', 'd', 'S', 'h', 'f', 'H', 'p', 'J', 'V'}, {'M', 'Z', 't', 'b', 'l', 'g', 'Q', 'S', 'G', 'B', 'L', 'R', 'f', 'j', 'p', 'W'}], 41: [{'B', 'q', 'r', 'Z', 'P', 'Q', 'S', 's', 'H', 'j', 'z', 'v', 'd', 'c', 'W', 'w', 'V', 't', 'l', 'N', 'D', 'h'}, {'l', 'w', 'g', 'Q', 'C', 'T', 'm', 'c', 'G', 'h', 'L', 'S', 'f', 'p', 'F', 'r', 'n', 'z'}, {'g', 'B', 'q', 'p', 'M', 'Z', 'm', 's', 'H', 'j', 'J', 'z', 'F', 'W', 'V', 't', 'G', 'D', 'L', 'R', 'f'}], 42: [{'t', 'N', 'Q', 'g', 'd', 'T', 'c', 'm', 'C', 'B', 'S', 'h', 'G', 'f', 'j', 'p', 'w', 'z'}, {'g', 'q', 'M', 'Z', 'P', 'b', 'H', 'j', 'J', 'z', 'v', 'F', 'w', 'V', 't', 'G', 'L', 'R', 'n'}, {'b', 'z', 'Q', 'T', 'm', 'S', 's', 'B', 'H', 'F', 'V'}], 43: [{'Z', 'P', 'l', 'N', 'b', 'v', 'Q', 'C', 'm', 'h', 'H', 'p', 'z'}, {'P', 'l', 'v', 'g', 'Q', 'd', 'S', 'G', 'D', 'L', 'f', 'w'}, {'q', 'r', 'M', 'Z', 'T', 'm', 'S', 'j', 'H', 'J', 'd', 'C', 'c', 'F', 't', 'l', 'D', 'R', 'n'}], 44: [{'g', 'p', 'P', 'Z', 'b', 'm', 'S', 's', 'H', 'j', 'z', 'v', 'd', 'c', 'F', 'w', 't', 'l', 'N', 'D'}, {'M', 't', 'Z', 'b', 'w', 'd', 'C', 'T', 'm', 'B', 's', 'L', 'J', 'D', 'r', 'W', 'n', 'V'}, {'M', 'P', 'g', 'C', 'c', 'S', 'B', 'D', 'G', 'R', 'h', 'r', 'p', 'n'}], 45: [{'M', 'b', 'N', 'w', 'g', 'd', 's', 'G', 'R', 'q', 'j', 'p', 'r', 'W', 'n'}, {'B', 'q', 'P', 'Z', 'T', 's', 'J', 'z', 'v', 'C', 'c', 'W', 'w', 't', 'l', 'G', 'h', 'L', 'R'}, {'Z', 'l', 'P', 'b', 'M', 'Q', 'g', 'm', 'B', 's', 'f', 'p'}], 46: [{'Z', 'v', 'g', 'd', 'T', 'C', 'G', 'h', 'R', 'q', 'H', 'j', 'F', 'n'}, {'g', 'B', 'p', 'P', 'M', 'Q', 'm', 'j', 'z', 'v', 'c', 'W', 't', 'l', 'N', 'G', 'D', 'L', 'h', 'f', 'n'}, {'P', 't', 'V', 'b', 'Z', 'Q', 'C', 'm', 'S', 's', 'D', 'L', 'R', 'G', 'H', 'W', 'w', 'z'}], 47: [{'P', 'Q', 'T', 'm', 's', 'h', 'G', 'f', 'q', 'j', 'p', 'F', 'n'}, {'Z', 'b', 'N', 'Q', 'C', 'm', 'S', 'B', 'h', 'R', 'q', 'H', 'p', 'w'}, {'M', 't', 'N', 'b', 'g', 'T', 'D', 'h', 'R', 'f', 'F', 'W', 'J', 'V'}], 48: [{'g', 'B', 'P', 'Z', 's', 'H', 'j', 'J', 'd', 'C', 'c', 'F', 'W', 'w', 'N', 'G', 'h', 'D', 'R', 'L', 'n'}, {'q', 'r', 'p', 'Q', 'T', 'm', 'S', 's', 'H', 'v', 'd', 'c', 'F', 'V', 'l', 'N', 'L', 'f', 'n'}, {'t', 'M', 'P', 'b', 'Z', 'Q', 'g', 'T', 'm', 'R', 'H', 'r', 'W', 'J', 'V'}], 49: [{'l', 'd', 'T', 'C', 'c', 'B', 'h', 'p', 'F', 'V'}, {'Z', 'M', 't', 'v', 'c', 'm', 'S', 'B', 'h', 'L', 's', 'G', 'q', 'j', 'F', 'w'}, {'g', 'q', 'r', 'M', 'Z', 'P', 'b', 'Q', 'T', 'S', 'H', 'J', 'd', 'W', 'w', 'V', 't', 'h', 'L', 'R', 'D', 'n'}], 50: [{'g', 'B', 'q', 'M', 'T', 'S', 'j', 'J', 'z', 'C', 'c', 'F', 'W', 'w', 'V', 'G', 'h', 'L', 'f'}, {'t', 'l', 'Z', 'N', 'w', 'Q', 'd', 'm', 'B', 'f', 'q', 'p', 'n'}, {'t', 'v', 'P', 'b', 'd', 'C', 'T', 'm', 'c', 's', 'G', 'R', 'f', 'H', 'j', 'n', 'z'}], 51: [{'t', 'M', 'v', 'z', 'g', 'm', 's', 'h', 'R', 'f', 'q', 'F', 'V'}, {'P', 'Z', 'l', 'b', 'v', 't', 'Q', 'c', 'm', 'B', 'D', 'G', 'R', 'q', 'p', 'W'}, {'Z', 't', 'b', 'w', 'z', 'c', 'S', 'B', 'D', 'L', 'h', 'f', 'j', 'r', 'W', 'n', 'V'}], 52: [{'Z', 'v', 'N', 'z', 'Q', 'c', 'G', 'D', 'h', 'R', 'f', 'L', 'j', 'W', 'V'}, {'t', 'P', 'v', 'N', 'l', 'g', 'T', 'c', 'S', 's', 'L', 'H', 'p', 'r', 'F', 'z'}, {'M', 'v', 'b', 'Q', 'm', 'S', 'B', 'h', 'R', 'H', 'p', 'w'}], 53: [{'t', 'P', 'Z', 'N', 'b', 'd', 'C', 'B', 's', 'L', 'R', 'q', 'H', 'V'}, {'g', 'p', 'M', 'b', 'Q', 'S', 's', 'j', 'J', 'v', 'c', 'F', 'W', 'w', 'V', 't', 'l', 'N', 'h', 'D', 'R', 'n'}, {'t', 'w', 'Q', 'T', 'C', 'm', 'h', 'D', 'L', 'q', 'W', 'J', 'z'}], 54: [{'P', 'v', 'w', 'Q', 'd', 'T', 'C', 'S', 'L', 'R', 'q', 'r', 'W', 'J', 'V'}, {'M', 'Z', 'V', 'N', 'b', 'Q', 'd', 'c', 'D', 'J', 'j', 'H', 'p', 'W', 'F', 'n', 'z'}, {'t', 'P', 'l', 'N', 'b', 'g', 'Q', 'T', 'S', 'B', 's', 'G', 'f', 'H', 'r', 'n', 'z'}], 55: [{'t', 'V', 'N', 'Q', 'g', 'd', 'm', 's', 'B', 'q', 'p', 'z'}, {'g', 'q', 'r', 'M', 'b', 'T', 'm', 'S', 'j', 'H', 'v', 'd', 'w', 'V', 't', 'l', 'G', 'h', 'L', 'R', 'f'}, {'v', 'l', 'N', 'Q', 'T', 'C', 'm', 's', 'h', 'j', 'n'}], 56: [{'t', 'P', 'M', 'N', 'w', 'Q', 'g', 'C', 'c', 'S', 'B', 'D', 'L', 'G', 'h', 'H', 'J'}, {'B', 'q', 'r', 'p', 'P', 'M', 'T', 'm', 's', 'j', 'z', 'd', 'c', 'w', 'V', 'G', 'h', 'L', 'R'}, {'g', 'r', 'p', 'Z', 'b', 'Q', 'T', 'm', 'S', 'H', 'z', 'C', 'F', 'W', 'V', 'l', 'N', 'h', 'D', 'R', 'n'}], 57: [{'M', 'l', 'v', 'd', 'G', 'h', 's', 'R', 'D', 'q', 'B', 'w', 'z'}, {'Z', 'l', 'P', 'N', 'v', 'd', 'T', 'c', 'C', 'S', 'B', 'D', 'L', 'R', 'f', 'H', 'F', 'z'}, {'N', 'b', 'w', 'd', 'T', 'h', 'L', 'f', 'r', 'F', 'W', 'n', 'V'}], 58: [{'M', 'l', 'P', 'b', 'd', 'T', 'c', 'm', 'G', 'h', 'D', 'R', 'H', 'p', 'w'}, {'B', 'q', 'Z', 'M', 'P', 'Q', 'S', 's', 'H', 'j', 'J', 'z', 'v', 'd', 'F', 'W', 't', 'N', 'G', 'R'}, {'Z', 'l', 'V', 'N', 'g', 'B', 'L', 'q', 'j', 'H', 'z'}], 59: [{'g', 'B', 'q', 'p', 'Z', 'P', 'M', 'Q', 'S', 'H', 'J', 'z', 'v', 'w', 'V', 'N', 'h', 'L', 'R', 'f', 'n'}, {'t', 'M', 'l', 'N', 'P', 'Q', 'd', 'C', 'c', 'm', 'G', 'D', 'R', 'p', 'F', 'W', 'w'}, {'g', 'B', 'q', 'r', 'P', 'b', 'm', 'S', 's', 'j', 'H', 'J', 'd', 'C', 'c', 'V', 't', 'G', 'D', 'h', 'n'}], 60: [{'q', 'r', 'p', 'Z', 'P', 'b', 'Q', 'T', 'm', 's', 'H', 'j', 'z', 'v', 'd', 'W', 'V', 't', 'l', 'N', 'L', 'R', 'f'}, {'g', 'q', 'M', 'b', 's', 'j', 'J', 'z', 'C', 'c', 'F', 'W', 'w', 't', 'N', 'G', 'L', 'f', 'n'}, {'B', 'M', 'P', 'Z', 'Q', 'T', 'S', 'j', 'J', 'v', 'd', 'c', 'F', 'w', 'V', 'l', 'G', 'D', 'h'}], 61: [{'t', 'N', 'g', 'T', 'S', 'G', 'h', 'L', 'R', 'f'}, {'g', 'q', 'p', 'P', 'b', 'Q', 'm', 'S', 's', 'H', 'j', 'J', 'd', 'C', 'W', 'w', 'V', 't', 'l', 'h', 'L', 'n'}, {'Z', 'l', 'N', 'Q', 'T', 'c', 'G', 'h', 'J', 'D', 'f', 'q', 'H', 'F', 'W', 'n', 'z'}], 62: [{'g', 'p', 'P', 'T', 'm', 'J', 'd', 'C', 'c', 'W', 'w', 'V', 't', 'l', 'N', 'G', 'h', 'D', 'R'}, {'g', 'B', 'q', 'Z', 'M', 'P', 'Q', 'm', 'j', 'H', 'z', 'F', 'w', 'N', 'G', 'D', 'h', 'f', 'n'}, {'M', 'l', 't', 'b', 'g', 'd', 'c', 'S', 's', 'B', 'J', 'F', 'n', 'V'}], 63: [{'t', 'l', 'M', 'b', 'g', 'd', 'C', 'T', 'B', 'h', 'L', 'J', 'p', 'n'}, {'g', 'q', 'r', 'P', 'Z', 'b', 'T', 's', 'H', 'J', 'z', 'c', 'F', 'W', 'N', 'G', 'D', 'h', 'R', 'L', 'f'}, {'B', 'q', 'r', 'P', 'M', 'm', 'S', 's', 'H', 'j', 'z', 'd', 'w', 'V', 't', 'l', 'G', 'D', 'h', 'R'}], 64: [{'Z', 't', 'l', 'v', 'M', 'z', 'Q', 'c', 'm', 's', 'G', 'R', 'f', 'q', 'j', 'V'}, {'P', 'l', 'M', 'N', 't', 'v', 'T', 'C', 'm', 'S', 'B', 'h', 'D', 'n', 'q', 'H', 'J', 'z'}, {'b', 'd', 'C', 'c', 'm', 'h', 'H', 'r', 'p', 'V'}], 65: [{'g', 'B', 'q', 'P', 'Z', 'T', 'S', 's', 'z', 'v', 'C', 'F', 'W', 't', 'G', 'h', 'L', 'R', 'D'}, {'M', 'l', 'Z', 'b', 'N', 'g', 'd', 'n', 'T', 'm', 's', 'f', 'q', 'j', 'r', 'F', 'J'}, {'B', 'q', 'p', 'M', 'P', 'b', 'Q', 'm', 'H', 'J', 'z', 'v', 'd', 'c', 'W', 'w', 'V', 't', 'l', 'G', 'R', 'n'}], 66: [{'g', 'p', 'Z', 'b', 'T', 'm', 's', 'H', 'j', 'J', 'z', 'C', 'c', 'F', 'W', 't', 'h', 'L', 'R', 'f'}, {'Z', 'l', 'M', 'P', 't', 'b', 'Q', 'd', 'S', 'B', 'f', 'F'}, {'P', 'l', 'v', 'N', 'Z', 'w', 'd', 'C', 'm', 'B', 'D', 'L', 'J', 's', 'q', 'W', 'n', 'V'}], 67: [{'t', 'v', 'N', 'z', 'g', 'm', 'S', 's', 'D', 'f', 'H', 'j', 'W', 'J', 'V'}, {'Z', 'P', 'M', 'Q', 'g', 'T', 'S', 'G', 'D', 'R', 'p', 'F', 'w', 'z'}, {'B', 'q', 'P', 'M', 'Z', 'b', 'j', 'J', 'z', 'C', 'F', 'W', 'w', 'V', 't', 'l', 'N', 'h', 'n'}], 68: [{'t', 'V', 'N', 'w', 'g', 'S', 'B', 'D', 'G', 'R', 'f', 'h', 'q', 'r', 's', 'J', 'z'}, {'g', 'q', 'M', 'P', 'b', 'Q', 'T', 'm', 'j', 'v', 'C', 'c', 'W', 'w', 'V', 'G', 'h', 'L', 'R'}, {'M', 'l', 'c', 'S', 'G', 'D', 'B', 'f', 'H', 'p', 'F'}], 69: [{'t', 'M', 'b', 'N', 'w', 'g', 'd', 'm', 'h', 'L', 'f', 'q', 'j', 'r', 'F', 'J', 'V'}, {'P', 'Z', 'N', 'd', 'T', 'C', 'S', 's', 'G', 'R', 'q', 'H', 'r', 'F', 'W', 'J', 'z'}, {'B', 'p', 'Z', 'P', 'Q', 'T', 'S', 's', 'H', 'J', 'z', 'c', 'W', 'V', 't', 'D', 'L', 'f', 'n'}], 70: [{'B', 'q', 'r', 'M', 'P', 'b', 'Q', 'T', 'm', 'S', 's', 'j', 'z', 'v', 'C', 'l', 'G', 'h', 'L', 'R'}, {'Z', 't', 'N', 'b', 'T', 'm', 'S', 's', 'G', 'B', 'f', 'H', 'p', 'F', 'W', 'n', 'V'}, {'q', 'p', 'Z', 'Q', 'S', 'H', 'J', 'd', 'C', 'c', 'F', 'w', 'V', 't', 'N', 'h', 'D', 'R', 'f', 'n'}], 71: [{'B', 'q', 'r', 'p', 'Z', 'M', 'T', 'm', 'S', 's', 'J', 'd', 'C', 'F', 'w', 'V', 't', 'l', 'D', 'L', 'f'}, {'v', 'g', 'T', 'c', 'm', 'G', 'h', 'D', 'R', 's', 'p'}, {'p', 'r', 'P', 'M', 'b', 'j', 'z', 'v', 'd', 'C', 'c', 'W', 'w', 't', 'N', 'h', 'L', 'R', 'n'}], 72: [{'p', 'r', 'M', 'Z', 'P', 'T', 'm', 'S', 's', 'H', 'J', 'z', 'v', 'd', 'C', 'l', 'N', 'D', 'h', 'f'}, {'g', 'B', 'q', 'r', 'Q', 'T', 'm', 'j', 'H', 'J', 'v', 'd', 'c', 'F', 'W', 'w', 'V', 'h', 'R', 'f', 'n'}, {'t', 'b', 'N', 'd', 'n', 'C', 'G', 'R', 'q', 'p', 'F', 'w'}], 73: [{'P', 'v', 'V', 't', 'g', 'B', 's', 'D', 'r', 'z'}, {'r', 'p', 'b', 'Q', 'T', 'm', 'H', 'J', 'd', 'C', 'c', 'F', 'W', 't', 'l', 'N', 'D', 'h', 'L', 'f', 'n'}, {'M', 'l', 'Z', 'N', 'P', 'V', 'Q', 'w', 'T', 'S', 'G', 'f', 'H', 'r', 'n', 'z'}], 74: [{'p', 'r', 'P', 'Z', 'b', 'Q', 's', 'J', 'z', 'W', 'w', 't', 'l', 'N', 'h', 'L', 'D', 'R', 'f', 'n'}, {'g', 'q', 'r', 'M', 'Z', 'Q', 'T', 'm', 'S', 'H', 'j', 'z', 'd', 'C', 'c', 'F', 'W', 'V', 'N', 'G', 'R'}, {'M', 'v', 'P', 'd', 'n', 'm', 'G', 's', 'L', 'B', 'q', 'H', 'j', 'F', 'p', 'w', 'z'}], 75: [{'l', 'v', 'b', 'N', 'w', 'd', 'n', 'T', 'm', 'G', 'D', 'L', 'f', 'q', 'j', 'p', 'J', 'V'}, {'Z', 'P', 't', 'M', 'N', 'g', 'Q', 'T', 'G', 'D', 'L', 'R', 'q', 'W', 'n'}, {'t', 'M', 'v', 'l', 'b', 'g', 'C', 'c', 'n', 'h', 'H', 'W', 'w', 'z'}], 76: [{'Z', 'M', 't', 'b', 'l', 'v', 'd', 'C', 'c', 'm', 'S', 'G', 'B', 'f', 'q', 'W', 'w', 'V'}, {'P', 't', 'v', 'N', 'M', 'Q', 'n', 'm', 's', 'h', 'L', 'R', 'f', 'G', 'j', 'p', 'J', 'z'}, {'P', 't', 'Z', 'g', 'C', 'T', 'c', 'L', 'R', 'q', 'H', 'r', 'F', 'n'}], 77: [{'t', 'N', 'w', 'Q', 'd', 'C', 'T', 'm', 'G', 'L', 'r', 'J', 'V'}, {'Z', 'l', 't', 'g', 'Q', 'T', 'B', 'D', 'h', 's', 'L', 'H', 'p', 'W', 'w', 'z'}, {'g', 'B', 'q', 'p', 'P', 'b', 'H', 'j', 'v', 'd', 'C', 'c', 'F', 'W', 'w', 'V', 'l', 'h', 'R', 'n'}], 78: [{'q', 'p', 'r', 'Z', 'b', 'Q', 'T', 'm', 's', 'z', 'C', 'c', 'F', 'N', 'G', 'D', 'h', 'R', 'f'}, {'M', 'v', 't', 'l', 'g', 'C', 'G', 'h', 'L', 'f', 'H', 'j', 'r', 'J', 'V'}, {'g', 'B', 'p', 'Z', 'Q', 'S', 's', 'j', 'H', 'd', 'c', 'W', 'w', 'V', 't', 'N', 'G', 'L', 'n'}], 79: [{'Z', 't', 'v', 'N', 'P', 'C', 'm', 'S', 'G', 'h', 'L', 'R', 'f', 'q', 'j', 'H', 'z'}, {'P', 'b', 'z', 'Q', 'd', 'T', 'S', 'D', 'h', 'f', 'H', 'r', 'F', 'W', 'w', 'V'}, {'t', 'Z', 'M', 'N', 'c', 'm', 'D', 'R', 'H', 'p', 'r', 'F', 'j', 'n'}], 80: [{'t', 'l', 'V', 'N', 'b', 'd', 'T', 'S', 'R', 'r', 'F', 'w', 'z'}, {'B', 'q', 'r', 'Z', 'M', 'b', 'Q', 'S', 's', 'H', 'C', 'c', 'W', 'w', 't', 'G', 'h', 'L', 'f', 'n'}, {'P', 'b', 'g', 'Q', 'c', 'B', 'L', 'q', 'p', 'z'}], 81: [{'g', 'B', 'p', 'b', 'T', 'm', 'S', 'J', 'z', 'v', 'c', 'W', 'w', 't', 'l', 'h', 'R', 'f', 'n'}, {'p', 'M', 'Q', 's', 'j', 'J', 'z', 'd', 'C', 'F', 'W', 'w', 't', 'N', 'G', 'D', 'L', 'R', 'h', 'n'}, {'Z', 'M', 'P', 'N', 'l', 'b', 'Q', 'C', 'c', 's', 'h', 'B', 'f', 'q', 'H', 'r', 'F', 'V'}], 82: [{'M', 'v', 'N', 'b', 'Q', 'd', 'C', 'T', 'G', 'J', 'f', 'H', 'w'}, {'g', 'B', 'q', 'Z', 'P', 'M', 'b', 'T', 'm', 'j', 'H', 'J', 'z', 'c', 'F', 'l', 'h', 'D', 'R', 'L'}, {'q', 'r', 'p', 'P', 'Z', 'b', 'm', 'S', 's', 'j', 'z', 'v', 'd', 'C', 'F', 'w', 't', 'N', 'G', 'h', 'n'}], 83: [{'v', 'w', 'd', 'c', 'm', 'S', 'R', 'H', 'r', 'F', 'n'}, {'P', 'v', 'N', 'b', 'w', 'C', 'T', 'm', 's', 'L', 'H', 'p', 'J', 'z'}, {'P', 'l', 't', 'M', 'N', 'g', 'Q', 'c', 'S', 'B', 'G', 'L', 'f', 'q', 'H', 'p', 'W'}], 84: [{'g', 'B', 'r', 'p', 'M', 'b', 'T', 's', 'H', 'j', 'v', 'C', 'c', 'W', 'w', 't', 'l', 'R', 'f', 'n'}, {'P', 'M', 'v', 'N', 'g', 'd', 'T', 'S', 'G', 'h', 'L', 'D', 'R', 'q', 'p', 'W', 'w', 'z'}, {'g', 'B', 'r', 'P', 'Z', 'b', 'S', 's', 'j', 'H', 'J', 'd', 'c', 'F', 'V', 'N', 'h', 'D', 'L', 'f'}], 85: [{'M', 'l', 'N', 'b', 'z', 'T', 'C', 'h', 'j', 'W', 'n', 'V'}, {'P', 'b', 'Q', 'C', 'm', 's', 'D', 'J', 'L', 'f', 'q', 'H', 'p', 'F', 'r', 'w', 'z'}, {'g', 'q', 'r', 'p', 'M', 'Z', 'T', 'm', 'S', 'H', 'd', 'C', 'F', 'w', 't', 'N', 'G', 'R', 'f'}], 86: [{'Z', 'l', 'N', 'Q', 'd', 'T', 'm', 'h', 'R', 'f', 'q', 'j', 'p', 'n'}, {'t', 'P', 'v', 'N', 'w', 'g', 'C', 'c', 'm', 'G', 'D', 'j', 'r', 'F', 'J'}, {'t', 'l', 'M', 'b', 'g', 'm', 'S', 'G', 'D', 'B', 's', 'R', 'L', 'W', 'V'}], 87: [{'Z', 'Q', 'T', 'C', 'c', 'm', 'B', 'h', 'S', 'f', 'r', 'p'}, {'g', 'B', 'q', 'p', 'Z', 'b', 'S', 's', 'H', 'j', 'J', 'v', 'd', 'F', 'W', 'l', 'D', 'L', 'h', 'n'}, {'g', 'q', 'r', 'M', 'b', 'T', 'm', 'S', 'J', 'z', 'v', 'C', 'F', 'V', 't', 'l', 'N', 'D', 'L', 'R', 'f'}], 88: [{'M', 't', 'Z', 'b', 'l', 'P', 'g', 'd', 'T', 's', 'R', 'f', 'q', 'H', 'F', 'W', 'w'}, {'P', 'v', 'l', 'N', 'g', 'C', 'c', 'T', 'm', 'G', 's', 'L', 'f', 'j', 'p', 'F', 'z'}, {'r', 'p', 'M', 'b', 'Q', 'S', 's', 'H', 'J', 'v', 'd', 'C', 'c', 'V', 't', 'N', 'G', 'h', 'D', 'n'}], 89: [{'M', 'Z', 'P', 'b', 'Q', 'd', 'c', 'm', 'B', 's', 'R', 'f', 'q', 'H', 'p', 'F', 'W', 'w'}, {'q', 'r', 'p', 'P', 'Q', 'T', 'm', 'S', 'v', 'd', 'C', 'w', 'V', 'l', 'N', 'G', 'h', 'D', 'R', 'L'}, {'t', 'N', 'b', 'z', 'g', 'T', 'c', 'S', 'B', 'h', 'D', 'R', 'f', 'H', 'F', 'n', 'V'}], 90: [{'Z', 'v', 'l', 'b', 't', 'N', 'T', 'S', 'G', 's', 'B', 'R', 'H', 'r', 'j', 'w', 'V'}, {'P', 'M', 't', 'N', 'Z', 'g', 'Q', 'd', 'c', 'm', 'D', 'R', 'j', 'F', 'W', 'J', 'V'}, {'M', 'v', 'l', 'N', 'C', 'T', 'm', 'B', 'L', 'q', 'W', 'n', 'z'}], 91: [{'t', 'v', 'l', 'Q', 'T', 'C', 'm', 'G', 'D', 'L', 'h', 'q'}, {'g', 'B', 'r', 'p', 'P', 'b', 'Q', 'm', 'S', 's', 'j', 'J', 'z', 'C', 'F', 'W', 'w', 'N', 'D', 'h', 'R'}, {'B', 'r', 'b', 'T', 'j', 'H', 'J', 'v', 'd', 'C', 'c', 'F', 'W', 'V', 't', 'G', 'L', 'R', 'f', 'n'}], 92: [{'g', 'B', 'q', 'r', 'p', 'P', 'Z', 'T', 'm', 'S', 'j', 'J', 'z', 'v', 'c', 'F', 'l', 'N', 'G', 'R'}, {'M', 'Z', 'b', 'Q', 'C', 'S', 'h', 'D', 'J', 'p', 'F', 'W', 'w', 'V'}, {'t', 'M', 'P', 'N', 'v', 'l', 'T', 'm', 's', 'J', 'R', 'W', 'w', 'V'}], 93: [{'M', 'l', 'N', 'g', 'T', 'S', 'G', 'B', 'L', 'p', 'F', 'W'}, {'B', 'q', 'p', 'r', 'M', 'b', 'T', 'S', 's', 'H', 'z', 'v', 'd', 'c', 'w', 'V', 'D', 'h', 'L'}, {'P', 'M', 'Z', 't', 'w', 'Q', 'g', 'C', 'h', 'D', 'j', 'F', 'W', 'J', 'z'}], 94: [{'B', 'q', 'p', 'r', 'M', 'b', 'T', 'm', 'S', 's', 'H', 'J', 'z', 'v', 'C', 'c', 'W', 't', 'G', 'h', 'f'}, {'P', 'M', 'v', 'Q', 'g', 'C', 'm', 'B', 'D', 'J', 'h', 'n', 'V'}, {'q', 'p', 'Z', 'P', 'M', 'T', 's', 'H', 'j', 'd', 'c', 'F', 'w', 'l', 'N', 'G', 'D', 'L', 'f', 'n'}], 95: [{'Z', 'V', 'Q', 'g', 'L', 'f', 'H', 'p', 'j', 'W', 'r', 'w', 'z'}, {'g', 'q', 'p', 'M', 'T', 'S', 'j', 'J', 'v', 'd', 'C', 'c', 'F', 'V', 't', 'l', 'G', 'D', 'h'}, {'M', 'l', 't', 'N', 'P', 'z', 'Q', 'Z', 'n', 'c', 'G', 'h', 's', 'R', 'f', 'W', 'J', 'V'}], 96: [{'M', 'v', 't', 'b', 'l', 'z', 'Q', 'Z', 'm', 's', 'B', 'f', 'p', 'F', 'W', 'V'}, {'P', 'l', 'N', 'T', 'm', 'S', 'h', 'L', 'R', 'H', 'r', 'F'}, {'M', 'l', 'V', 'v', 'w', 'd', 'n', 'c', 'S', 'G', 's', 'j', 'p', 'J', 'z'}], 97: [{'B', 'r', 'p', 'Z', 'b', 'Q', 'm', 'S', 's', 'z', 'C', 'c', 'F', 'W', 't', 'l', 'N', 'G', 'f', 'n'}, {'P', 'v', 'Z', 'b', 'N', 'w', 'g', 'd', 'G', 'h', 'D', 'L', 'H', 'j', 'W', 'J'}, {'g', 'B', 'r', 'M', 'T', 'm', 'S', 'j', 'H', 'J', 'z', 'v', 'C', 'w', 'V', 'G', 'h', 'R', 'f', 'n'}], 98: [{'t', 'v', 'V', 'b', 'Q', 'g', 'C', 'n', 'm', 'D', 'L', 'q', 'j', 'r', 'H', 'F', 'J', 'z'}, {'P', 'M', 'l', 'N', 'v', 'Q', 'g', 'C', 'c', 'S', 'G', 'h', 's', 'L', 'B', 'q', 'F', 'W'}, {'p', 'P', 'Z', 'b', 'T', 'S', 's', 'j', 'z', 'd', 'C', 'c', 'W', 'w', 'V', 't', 'N', 'G', 'n'}], 99: [{'t', 'N', 'w', 'g', 'Q', 'd', 'm', 's', 'G', 'H', 'J', 'z'}, {'B', 'q', 'r', 'M', 'T', 'm', 'j', 'J', 'z', 'd', 'C', 'F', 'W', 'w', 'l', 'D', 'h', 'R', 'f'}, {'Z', 'v', 't', 'N', 'w', 'c', 'S', 'B', 'h', 'D', 'R', 'L', 's', 'G', 'p', 'n'}]}\n"
     ]
    }
   ],
   "source": [
    "elv_groups = {}\n",
    "elv_group_id = 0\n",
    "\n",
    "for batch in groups:\n",
    "    if elv_group_id in elv_groups:\n",
    "        elv_groups[elv_group_id].append(batch)\n",
    "    else:\n",
    "        elv_groups[elv_group_id] = [set(b) for b in batch]\n",
    "    elv_group_id += 1"
   ],
   "metadata": {
    "collapsed": false
   }
  },
  {
   "cell_type": "markdown",
   "source": [
    "The `badges` are the common item we will be looking for, using a combination of list expansion and dictionary comprehension to quickly get through all of our elv groups."
   ],
   "metadata": {
    "collapsed": false
   }
  },
  {
   "cell_type": "code",
   "execution_count": 145,
   "outputs": [],
   "source": [
    "badges = {k:set.intersection(*v) for (k,v) in elv_groups.items()}"
   ],
   "metadata": {
    "collapsed": false
   }
  },
  {
   "cell_type": "markdown",
   "source": [
    "Finally, as expected, we can use our general compute ruck value function to calculate the sum of the contents based on their priority scores."
   ],
   "metadata": {
    "collapsed": false
   }
  },
  {
   "cell_type": "code",
   "execution_count": 147,
   "outputs": [
    {
     "data": {
      "text/plain": "2499"
     },
     "execution_count": 147,
     "metadata": {},
     "output_type": "execute_result"
    }
   ],
   "source": [
    "compute_ruck_value(badges)"
   ],
   "metadata": {
    "collapsed": false
   }
  }
 ],
 "metadata": {
  "kernelspec": {
   "display_name": "Python 3",
   "language": "python",
   "name": "python3"
  },
  "language_info": {
   "codemirror_mode": {
    "name": "ipython",
    "version": 2
   },
   "file_extension": ".py",
   "mimetype": "text/x-python",
   "name": "python",
   "nbconvert_exporter": "python",
   "pygments_lexer": "ipython2",
   "version": "2.7.6"
  }
 },
 "nbformat": 4,
 "nbformat_minor": 0
}
