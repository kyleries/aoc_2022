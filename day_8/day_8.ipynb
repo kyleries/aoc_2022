{
 "cells": [
  {
   "cell_type": "markdown",
   "source": [
    "Advent of Code, Day 8"
   ],
   "metadata": {
    "collapsed": false
   }
  },
  {
   "cell_type": "markdown",
   "source": [
    "First, let's build our 2D grid. We'll read the data, strip whitespace, ensure each string character is an int, and then create the grid as a list of lists. Knowing that we'll need to look at each point on the grid from both a horizontal and vertical perspective, we'll also go ahead and create a transposed grid so we can leverage the same functions for it."
   ],
   "metadata": {
    "collapsed": false
   }
  },
  {
   "cell_type": "code",
   "execution_count": 23,
   "metadata": {
    "collapsed": true
   },
   "outputs": [],
   "source": [
    "with open('data.csv') as file:\n",
    "    lines = file.readlines()\n",
    "\n",
    "grid = [list(map(int, l.strip())) for l in lines]\n",
    "grid_transposed = [list(row) for row in zip(*grid)]"
   ]
  },
  {
   "cell_type": "markdown",
   "source": [
    "Let's also create a \"forest of Trees\" to represent each tree that we're going to look at. We'll use a namedtuple for readability and to set the attributes of the Tree in an easily readable fashion."
   ],
   "metadata": {
    "collapsed": false
   }
  },
  {
   "cell_type": "code",
   "execution_count": 24,
   "outputs": [],
   "source": [
    "from collections import namedtuple\n",
    "Tree = namedtuple(\"Tree\", \"x y height\")\n",
    "\n",
    "forest = []\n",
    "for idxr, row in enumerate(grid):\n",
    "    for idxc, item in enumerate(row):\n",
    "        forest.append(Tree(idxc,idxr, int(grid[idxr][idxc])))"
   ],
   "metadata": {
    "collapsed": false
   }
  },
  {
   "cell_type": "markdown",
   "source": [
    "Next, let's build our sightlines to each tree. We'll slice the grid such that we have a tangible list of each of the cardinal sight lines to each tree."
   ],
   "metadata": {
    "collapsed": false
   }
  },
  {
   "cell_type": "code",
   "execution_count": 25,
   "outputs": [],
   "source": [
    "trees_in_sight_line = {}\n",
    "\n",
    "for tree in forest:\n",
    "    trees_in_sight_line[(tree.x,tree.y)] = []\n",
    "    trees_in_sight_line[(tree.x,tree.y)].append(grid[tree.y][:tree.x]) #left\n",
    "    trees_in_sight_line[(tree.x,tree.y)].append(grid[tree.y][tree.x+1:]) #right\n",
    "    trees_in_sight_line[(tree.x,tree.y)].append(grid_transposed[tree.x][:tree.y]) #up\n",
    "    trees_in_sight_line[(tree.x,tree.y)].append(grid_transposed[tree.x][tree.y+1:]) #down"
   ],
   "metadata": {
    "collapsed": false
   }
  },
  {
   "cell_type": "markdown",
   "source": [
    "Finally, let's evaluate the visbility of the tree by checking the sightlines to determine if the tree we're interested in is visible from outside the forest."
   ],
   "metadata": {
    "collapsed": false
   }
  },
  {
   "cell_type": "code",
   "execution_count": 26,
   "outputs": [
    {
     "data": {
      "text/plain": "1798"
     },
     "execution_count": 26,
     "metadata": {},
     "output_type": "execute_result"
    }
   ],
   "source": [
    "visibility = {}\n",
    "\n",
    "def is_tree_on_edge(tree_to_check):\n",
    "    for sight_line in trees_in_sight_line[(tree_to_check.x, tree_to_check.y)]:\n",
    "        if not sight_line:\n",
    "            return True\n",
    "\n",
    "def is_tree_tallest_along_a_sightline(tree_to_check):\n",
    "    for sight_line in trees_in_sight_line[(tree_to_check.x, tree_to_check.y)]:\n",
    "        if tree_to_check.height > max(sight_line):\n",
    "            return True\n",
    "\n",
    "def is_tree_visible(tree_to_check):\n",
    "    visibility[tree_to_check] = is_tree_on_edge(tree_to_check) or is_tree_tallest_along_a_sightline(tree_to_check) or False\n",
    "\n",
    "for tree in forest:\n",
    "    is_tree_visible(tree)\n",
    "\n",
    "sum(visibility.values())"
   ],
   "metadata": {
    "collapsed": false
   }
  }
 ],
 "metadata": {
  "kernelspec": {
   "display_name": "Python 3",
   "language": "python",
   "name": "python3"
  },
  "language_info": {
   "codemirror_mode": {
    "name": "ipython",
    "version": 2
   },
   "file_extension": ".py",
   "mimetype": "text/x-python",
   "name": "python",
   "nbconvert_exporter": "python",
   "pygments_lexer": "ipython2",
   "version": "2.7.6"
  }
 },
 "nbformat": 4,
 "nbformat_minor": 0
}
