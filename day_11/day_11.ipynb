{
 "cells": [
  {
   "cell_type": "markdown",
   "source": [
    "Advent of Code, Day 11"
   ],
   "metadata": {
    "collapsed": false
   }
  },
  {
   "cell_type": "code",
   "execution_count": 67,
   "outputs": [
    {
     "name": "stdout",
     "output_type": "stream",
     "text": [
      "Round 0\n",
      "Round 1\n",
      "Round 2\n",
      "Round 3\n",
      "Round 4\n",
      "Round 5\n",
      "Round 6\n",
      "Round 7\n",
      "Round 8\n",
      "Round 9\n",
      "Round 10\n",
      "Round 11\n",
      "Round 12\n",
      "Round 13\n",
      "Round 14\n",
      "Round 15\n",
      "Round 16\n",
      "Round 17\n",
      "Round 18\n",
      "Round 19\n"
     ]
    },
    {
     "data": {
      "text/plain": "78960"
     },
     "execution_count": 67,
     "metadata": {},
     "output_type": "execute_result"
    }
   ],
   "source": [
    "with open('data.csv') as file:\n",
    "    lines = file.readlines()\n",
    "    lines = [l.strip() for l in lines]\n",
    "\n",
    "lines\n",
    "\n",
    "from dataclasses import dataclass, field\n",
    "import re\n",
    "import operator\n",
    "\n",
    "ops = {\n",
    "    '+' : operator.add,\n",
    "    '*' : operator.mul\n",
    "}\n",
    "\n",
    "@dataclass\n",
    "class Monkey:\n",
    "    id: int = 0\n",
    "    starting_items: list[int] = field(default_factory=list)\n",
    "    operator: str = ''\n",
    "    operation_int: int = 0\n",
    "    test_divisor: int = 0\n",
    "    truthy_target_monkey_id: int = 0\n",
    "    falsy_target_monkey_id: int = 0\n",
    "    operator_is_item: bool = False\n",
    "    inspect_count: int = 0\n",
    "\n",
    "    def inspect_items(self):\n",
    "        for idx, item in enumerate(self.starting_items):\n",
    "            self.inspect_count += 1\n",
    "            if self.operator_is_item:\n",
    "                self.starting_items[idx] = (ops[self.operator](item, item)) // 3\n",
    "            else:\n",
    "                self.starting_items[idx] = (ops[self.operator](item, self.operation_int)) // 3\n",
    "\n",
    "    def distribute_items(self):\n",
    "        for idx, item in enumerate(self.starting_items):\n",
    "            if self.starting_items[idx] % self.test_divisor == 0:\n",
    "                target_monkey = next(x for x in monkies if x.id == self.truthy_target_monkey_id)\n",
    "                target_monkey.starting_items.append(item)\n",
    "            else:\n",
    "                target_monkey = next(x for x in monkies if x.id == self.falsy_target_monkey_id)\n",
    "                target_monkey.starting_items.append(item)\n",
    "\n",
    "        self.starting_items = []\n",
    "\n",
    "monkies = []\n",
    "\n",
    "for idx, line in enumerate(lines):\n",
    "    if line.startswith('Monkey'):\n",
    "        monkey = Monkey()\n",
    "        monkey.id = re.findall(r'\\d+', line)[0]\n",
    "        monkey.starting_items = list(map(int, re.findall(r'\\d+', lines[idx+1])))\n",
    "        monkey.operator = lines[idx+2].split(' ')[-2:-1][0]\n",
    "        op_int = lines[idx+2].split(' ')[-1:][0]\n",
    "        if op_int.isnumeric():\n",
    "            monkey.operation_int = int(op_int)\n",
    "        else:\n",
    "            monkey.operator_is_item = True\n",
    "        monkey.test_divisor = int(lines[idx+3].split(' ')[-1:][0])\n",
    "        monkey.truthy_target_monkey_id = re.findall(r'\\d+', lines[idx+4])[0]\n",
    "        monkey.falsy_target_monkey_id = re.findall(r'\\d+', lines[idx+5])[0]\n",
    "\n",
    "        monkies.append(monkey)\n",
    "    else:\n",
    "        continue\n",
    "\n",
    "for i in range(0, 20):\n",
    "    print(f'Round {i}')\n",
    "    for monkey in monkies:\n",
    "        monkey.inspect_items()\n",
    "        monkey.distribute_items()\n",
    "\n",
    "top_two = sorted(monkies, key=lambda x: x.inspect_count)[-2:]\n",
    "\n",
    "top_two[0].inspect_count * top_two[1].inspect_count"
   ],
   "metadata": {
    "collapsed": false
   }
  },
  {
   "cell_type": "markdown",
   "source": [
    "For each monkey, we need to resolve it's turn with the following steps:\n",
    "\n",
    "1. Monkey inspects an item with the initial worry level.\n",
    "2. Worry level is modified by operator and operation_int.\n",
    "3. Monkey gets bored with item. Worry level is divided by 3.\n",
    "4. Current worry level is tested with divisor.\n",
    "5. Decide where to throw item."
   ],
   "metadata": {
    "collapsed": false
   }
  }
 ],
 "metadata": {
  "kernelspec": {
   "display_name": "Python 3",
   "language": "python",
   "name": "python3"
  },
  "language_info": {
   "codemirror_mode": {
    "name": "ipython",
    "version": 2
   },
   "file_extension": ".py",
   "mimetype": "text/x-python",
   "name": "python",
   "nbconvert_exporter": "python",
   "pygments_lexer": "ipython2",
   "version": "2.7.6"
  }
 },
 "nbformat": 4,
 "nbformat_minor": 0
}
